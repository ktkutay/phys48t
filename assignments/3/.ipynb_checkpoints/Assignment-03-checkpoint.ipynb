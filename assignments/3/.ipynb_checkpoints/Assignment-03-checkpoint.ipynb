{
 "cells": [
  {
   "cell_type": "markdown",
   "metadata": {},
   "source": [
    "# Assignment 3: Getting real with real data\n",
    "\n",
    "In this assignment, we will get our hands dirty with real data, and start to learn and use the Python package [Pandas](http://pandas.pydata.org/). Pandas allows us to easily read data from various kinds of data sources, extract summaries of our data, and do many of the common data processing/exploration/transformation tasks easily. The main object in Pandas is called a Data Frame, which is basically a (possibly heterogeneous) matrix with named rows and columns.\n",
    "\n",
    "Your first task is to read a quick start tutorial to Pandas.\n",
    "\n",
    "- __`[ HW ]`__ Read [10 minutes to Pandas](http://pandas.pydata.org/pandas-docs/stable/10min.html) (feel free to open up a new notebook for yourself to play with the examples in this tutorial).\n",
    "\n",
    "[Here](http://pandas.pydata.org/pandas-docs/stable/tutorials.html), you will find an additional set of tutorials, some of them in the form of IPython/Jupyter notebooks. Feel free to explore them, perhaps starting with the ones under the title \"Lessons for New Pandas Users\".\n",
    "\n",
    "On the left panel of the 10 minutes tutorial, you will see links to more detailed documentation on various topics. Feel free to dive into these as you need; in particular, [Intro to data structures](http://pandas.pydata.org/pandas-docs/stable/dsintro.html), [Indexing and selecting data](http://pandas.pydata.org/pandas-docs/stable/indexing.html), [Merge, join, and concatenate](http://pandas.pydata.org/pandas-docs/stable/merging.html), and [Group By: split-apply-combine](http://pandas.pydata.org/pandas-docs/stable/groupby.html) will be useful. Pandas also has a few plotting functions based on Matplotlib, which we started to use last week; you can read about those [here](http://pandas.pydata.org/pandas-docs/stable/visualization.html)."
   ]
  },
  {
   "cell_type": "markdown",
   "metadata": {},
   "source": [
    "This assignment comes with two datasets, `income_train.csv` and `income_test.csv`, both under the `data` subdirectory of this assignment's directory. These files contain some basic demographic information about a set of people, including a categorical variable for their yearly income (identifying whether the income is >= or < 50K). If you want, you can take a look at the files using the Sage interface; both of these are plain text (ASCII) files. \n",
    "\n",
    "The `train` and `test` in the filenames signify that we will use one of these files for training a machine learning model, and the other for testing/evaluating the model---we will do this in future assignments.\n",
    "\n",
    "The file extension `.csv` stands for \"comma-separated values\"; each row represents one data point (\"datum\"), and the columns are separated by commas. Often (but not always), the first row in a CSV file is not a data row, but contains the column names instead, again separated by commas. (Note that column separators other than commas are often used; you will find tab-separated files, space-separated files, etc. People often refer to these as CSV files, as well.)\n",
    "\n",
    "When some columns contain text, things may become confusing, since that text itself could contain commas, which would make it difficult to figure out the column boundaries. The CSV format sometimes deals with this by using quotation marks for columns that contain text. Of course, if the text itself contains quotation marks, things get confusing again :) Feel free to read more about CSV if you are curious about these sorts of things."
   ]
  },
  {
   "cell_type": "markdown",
   "metadata": {},
   "source": [
    "# Basics"
   ]
  },
  {
   "cell_type": "markdown",
   "metadata": {},
   "source": [
    "Let's use Pandas to read our two datasets into two variables."
   ]
  },
  {
   "cell_type": "code",
   "execution_count": 45,
   "metadata": {
    "collapsed": false
   },
   "outputs": [
    {
     "data": {
      "application/javascript": [
       "\n",
       "IPython.OutputArea.prototype._should_scroll = function(lines) {\n",
       "    return false;\n",
       "}\n"
      ],
      "text/plain": [
       "<IPython.core.display.Javascript object>"
      ]
     },
     "metadata": {},
     "output_type": "display_data"
    }
   ],
   "source": [
    "# Execute this cell to import Matplotlib, Seaborn, NumPy and Pandas (you should start to \n",
    "# learn these import statements; they should become automatic)\n",
    "import matplotlib.pyplot as plt\n",
    "# IPython \"magic\" command for making plots appear in the notebook (\"inline\")\n",
    "%matplotlib inline\n",
    "import seaborn as sns\n",
    "import numpy as np\n",
    "import pandas as pd \n",
    "\n",
    "##disable ipython autoscroll for large outputs\n",
    "from IPython.display import display, Javascript\n",
    "disable_js = \"\"\"\n",
    "IPython.OutputArea.prototype._should_scroll = function(lines) {\n",
    "    return false;\n",
    "}\n",
    "\"\"\"\n",
    "display(Javascript(disable_js))"
   ]
  },
  {
   "cell_type": "code",
   "execution_count": 46,
   "metadata": {
    "collapsed": false
   },
   "outputs": [],
   "source": [
    "# Execute this cell to read the data file income_train.csv \n",
    "\n",
    "# We are telling Pandas that the symbol '?' represents a missing value in this \n",
    "# dataset (the acronym 'na' stands for 'not available', one also uses 'nan' or \n",
    "# 'NaN', which represent 'not a number')\n",
    "# We are also telling Pandas the there is no column \n",
    "income_train = pd.read_csv('data/income_train.csv', na_values=['?']) #NA values are represented by ? in data"
   ]
  },
  {
   "cell_type": "markdown",
   "metadata": {},
   "source": [
    "Note that By default, the `read_csv()` function in Pandas assumes that the first row has the column names. \n",
    "If this is not the case, you will have to override this default. See the [documentation](http://pandas.pydata.org/pandas-docs/stable/generated/pandas.read_csv.html) for a full list of the available options to this function (so many!)"
   ]
  },
  {
   "cell_type": "code",
   "execution_count": 47,
   "metadata": {
    "collapsed": false
   },
   "outputs": [
    {
     "name": "stdout",
     "output_type": "stream",
     "text": [
      "<class 'pandas.core.frame.DataFrame'>\n"
     ]
    }
   ],
   "source": [
    "# Execute this cell to see the type of the income_train variable (note that \n",
    "# you can do this for any object in Python; feel free to try it every now\n",
    "# and then on objects that seem mysterious to you)\n",
    "\n",
    "print type(income_train)"
   ]
  },
  {
   "cell_type": "code",
   "execution_count": 48,
   "metadata": {
    "collapsed": false
   },
   "outputs": [
    {
     "data": {
      "text/html": [
       "<div>\n",
       "<table border=\"1\" class=\"dataframe\">\n",
       "  <thead>\n",
       "    <tr style=\"text-align: right;\">\n",
       "      <th></th>\n",
       "      <th>age</th>\n",
       "      <th>workclass</th>\n",
       "      <th>fnlwgt</th>\n",
       "      <th>education</th>\n",
       "      <th>education-num</th>\n",
       "      <th>marital-status</th>\n",
       "      <th>occupation</th>\n",
       "      <th>relationship</th>\n",
       "      <th>race</th>\n",
       "      <th>sex</th>\n",
       "      <th>capital-gain</th>\n",
       "      <th>capital-loss</th>\n",
       "      <th>hours-per-week</th>\n",
       "      <th>native-country</th>\n",
       "      <th>yearly-income</th>\n",
       "    </tr>\n",
       "  </thead>\n",
       "  <tbody>\n",
       "    <tr>\n",
       "      <th>0</th>\n",
       "      <td>39</td>\n",
       "      <td>State-gov</td>\n",
       "      <td>77516</td>\n",
       "      <td>Bachelors</td>\n",
       "      <td>13</td>\n",
       "      <td>Never-married</td>\n",
       "      <td>Adm-clerical</td>\n",
       "      <td>Not-in-family</td>\n",
       "      <td>White</td>\n",
       "      <td>Male</td>\n",
       "      <td>2174</td>\n",
       "      <td>0</td>\n",
       "      <td>40</td>\n",
       "      <td>United-States</td>\n",
       "      <td>&lt;=50K</td>\n",
       "    </tr>\n",
       "    <tr>\n",
       "      <th>1</th>\n",
       "      <td>50</td>\n",
       "      <td>Self-emp-not-inc</td>\n",
       "      <td>83311</td>\n",
       "      <td>Bachelors</td>\n",
       "      <td>13</td>\n",
       "      <td>Married-civ-spouse</td>\n",
       "      <td>Exec-managerial</td>\n",
       "      <td>Husband</td>\n",
       "      <td>White</td>\n",
       "      <td>Male</td>\n",
       "      <td>0</td>\n",
       "      <td>0</td>\n",
       "      <td>13</td>\n",
       "      <td>United-States</td>\n",
       "      <td>&lt;=50K</td>\n",
       "    </tr>\n",
       "    <tr>\n",
       "      <th>2</th>\n",
       "      <td>38</td>\n",
       "      <td>Private</td>\n",
       "      <td>215646</td>\n",
       "      <td>HS-grad</td>\n",
       "      <td>9</td>\n",
       "      <td>Divorced</td>\n",
       "      <td>Handlers-cleaners</td>\n",
       "      <td>Not-in-family</td>\n",
       "      <td>White</td>\n",
       "      <td>Male</td>\n",
       "      <td>0</td>\n",
       "      <td>0</td>\n",
       "      <td>40</td>\n",
       "      <td>United-States</td>\n",
       "      <td>&lt;=50K</td>\n",
       "    </tr>\n",
       "    <tr>\n",
       "      <th>3</th>\n",
       "      <td>53</td>\n",
       "      <td>Private</td>\n",
       "      <td>234721</td>\n",
       "      <td>11th</td>\n",
       "      <td>7</td>\n",
       "      <td>Married-civ-spouse</td>\n",
       "      <td>Handlers-cleaners</td>\n",
       "      <td>Husband</td>\n",
       "      <td>Black</td>\n",
       "      <td>Male</td>\n",
       "      <td>0</td>\n",
       "      <td>0</td>\n",
       "      <td>40</td>\n",
       "      <td>United-States</td>\n",
       "      <td>&lt;=50K</td>\n",
       "    </tr>\n",
       "    <tr>\n",
       "      <th>4</th>\n",
       "      <td>28</td>\n",
       "      <td>Private</td>\n",
       "      <td>338409</td>\n",
       "      <td>Bachelors</td>\n",
       "      <td>13</td>\n",
       "      <td>Married-civ-spouse</td>\n",
       "      <td>Prof-specialty</td>\n",
       "      <td>Wife</td>\n",
       "      <td>Black</td>\n",
       "      <td>Female</td>\n",
       "      <td>0</td>\n",
       "      <td>0</td>\n",
       "      <td>40</td>\n",
       "      <td>Cuba</td>\n",
       "      <td>&lt;=50K</td>\n",
       "    </tr>\n",
       "  </tbody>\n",
       "</table>\n",
       "</div>"
      ],
      "text/plain": [
       "   age         workclass  fnlwgt  education  education-num  \\\n",
       "0   39         State-gov   77516  Bachelors             13   \n",
       "1   50  Self-emp-not-inc   83311  Bachelors             13   \n",
       "2   38           Private  215646    HS-grad              9   \n",
       "3   53           Private  234721       11th              7   \n",
       "4   28           Private  338409  Bachelors             13   \n",
       "\n",
       "       marital-status         occupation   relationship   race     sex  \\\n",
       "0       Never-married       Adm-clerical  Not-in-family  White    Male   \n",
       "1  Married-civ-spouse    Exec-managerial        Husband  White    Male   \n",
       "2            Divorced  Handlers-cleaners  Not-in-family  White    Male   \n",
       "3  Married-civ-spouse  Handlers-cleaners        Husband  Black    Male   \n",
       "4  Married-civ-spouse     Prof-specialty           Wife  Black  Female   \n",
       "\n",
       "   capital-gain  capital-loss  hours-per-week native-country yearly-income  \n",
       "0          2174             0              40  United-States         <=50K  \n",
       "1             0             0              13  United-States         <=50K  \n",
       "2             0             0              40  United-States         <=50K  \n",
       "3             0             0              40  United-States         <=50K  \n",
       "4             0             0              40           Cuba         <=50K  "
      ]
     },
     "execution_count": 48,
     "metadata": {},
     "output_type": "execute_result"
    }
   ],
   "source": [
    "# Execute this cell to see the first few rows of the data\n",
    "income_train.head()"
   ]
  },
  {
   "cell_type": "code",
   "execution_count": 49,
   "metadata": {
    "collapsed": false
   },
   "outputs": [
    {
     "name": "stdout",
     "output_type": "stream",
     "text": [
      "nrows\t32561\n",
      "ncols\t15\n",
      "shape\t(32561, 15)\n"
     ]
    }
   ],
   "source": [
    "# [ HW ] Print the number of rows and columns of the data frame income_train\n",
    "print \"nrows\\t\",len(income_train)\n",
    "print \"ncols\\t\",len(income_train.columns)\n",
    "print \"shape\\t\",income_train.shape"
   ]
  },
  {
   "cell_type": "code",
   "execution_count": 50,
   "metadata": {
    "collapsed": false
   },
   "outputs": [
    {
     "name": "stdout",
     "output_type": "stream",
     "text": [
      "nrows\t16281\n",
      "ncols\t15\n"
     ]
    }
   ],
   "source": [
    "# [ HW ] Similar to income_train, read the dataset income_test.csv \n",
    "# into a variable named income_test, and display its first few rows, and print\n",
    "# its numbers of rows and columns\n",
    "income_test = pd.read_csv('data/income_test.csv', na_values=['?'])\n",
    "income_test.head()\n",
    "print \"nrows\\t\",income_test.shape[0]\n",
    "print \"ncols\\t\",income_test.shape[1]"
   ]
  },
  {
   "cell_type": "code",
   "execution_count": 51,
   "metadata": {
    "collapsed": false
   },
   "outputs": [
    {
     "name": "stdout",
     "output_type": "stream",
     "text": [
      "age\n",
      "workclass\n",
      "fnlwgt\n",
      "education\n",
      "education-num\n",
      "marital-status\n",
      "occupation\n",
      "relationship\n",
      "race\n",
      "sex\n",
      "capital-gain\n",
      "capital-loss\n",
      "hours-per-week\n",
      "native-country\n",
      "yearly-income\n"
     ]
    }
   ],
   "source": [
    "# [ HW ] Print the names of the columns in income_train\n",
    "print '\\n'.join(income_train.columns)"
   ]
  },
  {
   "cell_type": "markdown",
   "metadata": {},
   "source": [
    "In Pandas, each column of a DataFrame has a \"dtype\", which represents the data type the column contains. This is actually inherited from NumPy, and note that the notion of dtype is intimately related to, but different from the `type` information in base Python. (Also note that Pandas is built on top of NumPy, so you can often use NumPy methods with Pandas objects.) \n",
    "\n",
    "Some common dtypes are integer, float, and object (which is a generic container type that is also used for categorical or text data)."
   ]
  },
  {
   "cell_type": "code",
   "execution_count": 52,
   "metadata": {
    "collapsed": false
   },
   "outputs": [
    {
     "data": {
      "text/plain": [
       "age                int64\n",
       "workclass         object\n",
       "fnlwgt             int64\n",
       "education         object\n",
       "education-num      int64\n",
       "marital-status    object\n",
       "occupation        object\n",
       "relationship      object\n",
       "race              object\n",
       "sex               object\n",
       "capital-gain       int64\n",
       "capital-loss       int64\n",
       "hours-per-week     int64\n",
       "native-country    object\n",
       "yearly-income     object\n",
       "dtype: object"
      ]
     },
     "execution_count": 52,
     "metadata": {},
     "output_type": "execute_result"
    }
   ],
   "source": [
    "# [ HW ] Print the dtypes of all the columns in income_train\n",
    "income_train.dtypes"
   ]
  },
  {
   "cell_type": "markdown",
   "metadata": {},
   "source": [
    "In the 10-minute guide, you'll see the common ways of accessing elements of a `DataFrame` object by indices. Here are a couple of examples that get a few rows from the 'workclass' column."
   ]
  },
  {
   "cell_type": "code",
   "execution_count": 53,
   "metadata": {
    "collapsed": false
   },
   "outputs": [
    {
     "data": {
      "text/html": [
       "<div>\n",
       "<table border=\"1\" class=\"dataframe\">\n",
       "  <thead>\n",
       "    <tr style=\"text-align: right;\">\n",
       "      <th></th>\n",
       "      <th>education</th>\n",
       "      <th>education-num</th>\n",
       "      <th>marital-status</th>\n",
       "      <th>occupation</th>\n",
       "    </tr>\n",
       "  </thead>\n",
       "  <tbody>\n",
       "    <tr>\n",
       "      <th>7</th>\n",
       "      <td>HS-grad</td>\n",
       "      <td>9</td>\n",
       "      <td>Married-civ-spouse</td>\n",
       "      <td>Exec-managerial</td>\n",
       "    </tr>\n",
       "    <tr>\n",
       "      <th>8</th>\n",
       "      <td>Masters</td>\n",
       "      <td>14</td>\n",
       "      <td>Never-married</td>\n",
       "      <td>Prof-specialty</td>\n",
       "    </tr>\n",
       "    <tr>\n",
       "      <th>9</th>\n",
       "      <td>Bachelors</td>\n",
       "      <td>13</td>\n",
       "      <td>Married-civ-spouse</td>\n",
       "      <td>Exec-managerial</td>\n",
       "    </tr>\n",
       "    <tr>\n",
       "      <th>10</th>\n",
       "      <td>Some-college</td>\n",
       "      <td>10</td>\n",
       "      <td>Married-civ-spouse</td>\n",
       "      <td>Exec-managerial</td>\n",
       "    </tr>\n",
       "    <tr>\n",
       "      <th>11</th>\n",
       "      <td>Bachelors</td>\n",
       "      <td>13</td>\n",
       "      <td>Married-civ-spouse</td>\n",
       "      <td>Prof-specialty</td>\n",
       "    </tr>\n",
       "  </tbody>\n",
       "</table>\n",
       "</div>"
      ],
      "text/plain": [
       "       education  education-num      marital-status       occupation\n",
       "7        HS-grad              9  Married-civ-spouse  Exec-managerial\n",
       "8        Masters             14       Never-married   Prof-specialty\n",
       "9      Bachelors             13  Married-civ-spouse  Exec-managerial\n",
       "10  Some-college             10  Married-civ-spouse  Exec-managerial\n",
       "11     Bachelors             13  Married-civ-spouse   Prof-specialty"
      ]
     },
     "execution_count": 53,
     "metadata": {},
     "output_type": "execute_result"
    }
   ],
   "source": [
    "# Integer-based selection, using .iloc[]\n",
    "income_train.iloc[7:12,3:7]"
   ]
  },
  {
   "cell_type": "code",
   "execution_count": 54,
   "metadata": {
    "collapsed": false
   },
   "outputs": [
    {
     "data": {
      "text/html": [
       "<div>\n",
       "<table border=\"1\" class=\"dataframe\">\n",
       "  <thead>\n",
       "    <tr style=\"text-align: right;\">\n",
       "      <th></th>\n",
       "      <th>marital-status</th>\n",
       "      <th>occupation</th>\n",
       "    </tr>\n",
       "  </thead>\n",
       "  <tbody>\n",
       "    <tr>\n",
       "      <th>7</th>\n",
       "      <td>Married-civ-spouse</td>\n",
       "      <td>Exec-managerial</td>\n",
       "    </tr>\n",
       "    <tr>\n",
       "      <th>8</th>\n",
       "      <td>Never-married</td>\n",
       "      <td>Prof-specialty</td>\n",
       "    </tr>\n",
       "    <tr>\n",
       "      <th>9</th>\n",
       "      <td>Married-civ-spouse</td>\n",
       "      <td>Exec-managerial</td>\n",
       "    </tr>\n",
       "    <tr>\n",
       "      <th>10</th>\n",
       "      <td>Married-civ-spouse</td>\n",
       "      <td>Exec-managerial</td>\n",
       "    </tr>\n",
       "    <tr>\n",
       "      <th>11</th>\n",
       "      <td>Married-civ-spouse</td>\n",
       "      <td>Prof-specialty</td>\n",
       "    </tr>\n",
       "    <tr>\n",
       "      <th>12</th>\n",
       "      <td>Never-married</td>\n",
       "      <td>Adm-clerical</td>\n",
       "    </tr>\n",
       "  </tbody>\n",
       "</table>\n",
       "</div>"
      ],
      "text/plain": [
       "        marital-status       occupation\n",
       "7   Married-civ-spouse  Exec-managerial\n",
       "8        Never-married   Prof-specialty\n",
       "9   Married-civ-spouse  Exec-managerial\n",
       "10  Married-civ-spouse  Exec-managerial\n",
       "11  Married-civ-spouse   Prof-specialty\n",
       "12       Never-married     Adm-clerical"
      ]
     },
     "execution_count": 54,
     "metadata": {},
     "output_type": "execute_result"
    }
   ],
   "source": [
    "# Index (label)-based selection, using .loc[]\n",
    "income_train.loc[7:12,['marital-status','occupation']]"
   ]
  },
  {
   "cell_type": "code",
   "execution_count": 55,
   "metadata": {
    "collapsed": false
   },
   "outputs": [
    {
     "data": {
      "text/html": [
       "<div>\n",
       "<table border=\"1\" class=\"dataframe\">\n",
       "  <thead>\n",
       "    <tr style=\"text-align: right;\">\n",
       "      <th></th>\n",
       "      <th>workclass</th>\n",
       "      <th>fnlwgt</th>\n",
       "      <th>education</th>\n",
       "      <th>education-num</th>\n",
       "      <th>marital-status</th>\n",
       "      <th>occupation</th>\n",
       "      <th>relationship</th>\n",
       "      <th>race</th>\n",
       "    </tr>\n",
       "  </thead>\n",
       "  <tbody>\n",
       "    <tr>\n",
       "      <th>7</th>\n",
       "      <td>Self-emp-not-inc</td>\n",
       "      <td>209642</td>\n",
       "      <td>HS-grad</td>\n",
       "      <td>9</td>\n",
       "      <td>Married-civ-spouse</td>\n",
       "      <td>Exec-managerial</td>\n",
       "      <td>Husband</td>\n",
       "      <td>White</td>\n",
       "    </tr>\n",
       "    <tr>\n",
       "      <th>8</th>\n",
       "      <td>Private</td>\n",
       "      <td>45781</td>\n",
       "      <td>Masters</td>\n",
       "      <td>14</td>\n",
       "      <td>Never-married</td>\n",
       "      <td>Prof-specialty</td>\n",
       "      <td>Not-in-family</td>\n",
       "      <td>White</td>\n",
       "    </tr>\n",
       "    <tr>\n",
       "      <th>9</th>\n",
       "      <td>Private</td>\n",
       "      <td>159449</td>\n",
       "      <td>Bachelors</td>\n",
       "      <td>13</td>\n",
       "      <td>Married-civ-spouse</td>\n",
       "      <td>Exec-managerial</td>\n",
       "      <td>Husband</td>\n",
       "      <td>White</td>\n",
       "    </tr>\n",
       "    <tr>\n",
       "      <th>10</th>\n",
       "      <td>Private</td>\n",
       "      <td>280464</td>\n",
       "      <td>Some-college</td>\n",
       "      <td>10</td>\n",
       "      <td>Married-civ-spouse</td>\n",
       "      <td>Exec-managerial</td>\n",
       "      <td>Husband</td>\n",
       "      <td>Black</td>\n",
       "    </tr>\n",
       "    <tr>\n",
       "      <th>11</th>\n",
       "      <td>State-gov</td>\n",
       "      <td>141297</td>\n",
       "      <td>Bachelors</td>\n",
       "      <td>13</td>\n",
       "      <td>Married-civ-spouse</td>\n",
       "      <td>Prof-specialty</td>\n",
       "      <td>Husband</td>\n",
       "      <td>Asian-Pac-Islander</td>\n",
       "    </tr>\n",
       "    <tr>\n",
       "      <th>12</th>\n",
       "      <td>Private</td>\n",
       "      <td>122272</td>\n",
       "      <td>Bachelors</td>\n",
       "      <td>13</td>\n",
       "      <td>Never-married</td>\n",
       "      <td>Adm-clerical</td>\n",
       "      <td>Own-child</td>\n",
       "      <td>White</td>\n",
       "    </tr>\n",
       "  </tbody>\n",
       "</table>\n",
       "</div>"
      ],
      "text/plain": [
       "           workclass  fnlwgt     education  education-num      marital-status  \\\n",
       "7   Self-emp-not-inc  209642       HS-grad              9  Married-civ-spouse   \n",
       "8            Private   45781       Masters             14       Never-married   \n",
       "9            Private  159449     Bachelors             13  Married-civ-spouse   \n",
       "10           Private  280464  Some-college             10  Married-civ-spouse   \n",
       "11         State-gov  141297     Bachelors             13  Married-civ-spouse   \n",
       "12           Private  122272     Bachelors             13       Never-married   \n",
       "\n",
       "         occupation   relationship                race  \n",
       "7   Exec-managerial        Husband               White  \n",
       "8    Prof-specialty  Not-in-family               White  \n",
       "9   Exec-managerial        Husband               White  \n",
       "10  Exec-managerial        Husband               Black  \n",
       "11   Prof-specialty        Husband  Asian-Pac-Islander  \n",
       "12     Adm-clerical      Own-child               White  "
      ]
     },
     "execution_count": 55,
     "metadata": {},
     "output_type": "execute_result"
    }
   ],
   "source": [
    "# Mixed indexing, using .ix[]\n",
    "income_train.ix[7:12,'workclass':'race']"
   ]
  },
  {
   "cell_type": "markdown",
   "metadata": {},
   "source": [
    "### [iloc vs ix vs loc explanation | stackoverflow](http://stackoverflow.com/questions/31593201/pandas-iloc-vs-ix-vs-loc-explanation)\n",
    "First, a recap:\n",
    "\n",
    "- loc works on labels in the index.\n",
    "- iloc works on the positions in the index (so it only takes integers).\n",
    "- ix usually tries to behave like loc but falls back to behaving like iloc if the label is not in the index.\n",
    "It's important to note some subtleties that can make ix slightly tricky to use:\n",
    "\n",
    "if the index is of integer type, ix will only use label-based indexing and not fall back to position-based indexing. If the label is not in the index, an error is raised.\n",
    "if the index does not contain only integers, then given an integer, ix will immediately use position-based indexing rather than label-based indexing. If however ix is given another type (e.g. a string), it can use label-based indexing."
   ]
  },
  {
   "cell_type": "code",
   "execution_count": 56,
   "metadata": {
    "collapsed": false
   },
   "outputs": [
    {
     "data": {
      "text/plain": [
       "7     Self-emp-not-inc\n",
       "8              Private\n",
       "9              Private\n",
       "10             Private\n",
       "11           State-gov\n",
       "Name: workclass, dtype: object"
      ]
     },
     "execution_count": 56,
     "metadata": {},
     "output_type": "execute_result"
    }
   ],
   "source": [
    "# Column name indexing, using []\n",
    "income_train['workclass'][7:12]"
   ]
  },
  {
   "cell_type": "code",
   "execution_count": 57,
   "metadata": {
    "collapsed": false
   },
   "outputs": [
    {
     "data": {
      "text/plain": [
       "7     Self-emp-not-inc\n",
       "8              Private\n",
       "9              Private\n",
       "10             Private\n",
       "11           State-gov\n",
       "Name: workclass, dtype: object"
      ]
     },
     "execution_count": 57,
     "metadata": {},
     "output_type": "execute_result"
    }
   ],
   "source": [
    "# Column name indexing, using . (dot)\n",
    "income_train.workclass[7:12]"
   ]
  },
  {
   "cell_type": "code",
   "execution_count": 58,
   "metadata": {
    "collapsed": false
   },
   "outputs": [
    {
     "name": "stdout",
     "output_type": "stream",
     "text": [
      "<class 'pandas.core.frame.DataFrame'>\n",
      "<class 'pandas.core.series.Series'>\n"
     ]
    }
   ],
   "source": [
    "print type(income_train)\n",
    "print type(income_train.workclass[7:12])"
   ]
  },
  {
   "cell_type": "markdown",
   "metadata": {},
   "source": [
    "Note that in the last two examples, `income_train['workclass']` and `income.workclass` return the full column in a Pandas `Series` object. Make sure you have some facility with `Series` objects."
   ]
  },
  {
   "cell_type": "markdown",
   "metadata": {},
   "source": [
    "There is another important data selection method: [Boolean indexing](http://pandas.pydata.org/pandas-docs/stable/indexing.html#boolean-indexing). Read about it if you aren't yet familiar with it. "
   ]
  },
  {
   "cell_type": "code",
   "execution_count": 59,
   "metadata": {
    "collapsed": false
   },
   "outputs": [
    {
     "name": "stdout",
     "output_type": "stream",
     "text": [
      "395\n"
     ]
    }
   ],
   "source": [
    "# [ HW ] Define a new data frame, income_train_children, that consists of \n",
    "# the rows in income_train where the age column is less than 18 (note that you \n",
    "# should get a data frame with 395 rows)\n",
    "\n",
    "income_train_children = income_train[income_train.age < 18]\n",
    "print len(income_train_children)"
   ]
  },
  {
   "cell_type": "markdown",
   "metadata": {},
   "source": [
    "# Exploratory data analysis"
   ]
  },
  {
   "cell_type": "markdown",
   "metadata": {},
   "source": [
    "Next, let's start to do some exploratory data analysis (EDA). We will begin by obtaining the counts of the unique values that occur in the workclass column."
   ]
  },
  {
   "cell_type": "code",
   "execution_count": 60,
   "metadata": {
    "collapsed": false
   },
   "outputs": [
    {
     "name": "stdout",
     "output_type": "stream",
     "text": [
      "['State-gov' 'Self-emp-not-inc' 'Private' 'Federal-gov' 'Local-gov' nan\n",
      " 'Self-emp-inc' 'Without-pay' 'Never-worked']\n"
     ]
    }
   ],
   "source": [
    "# Execute this cell\n",
    "print income_train['workclass'].unique()"
   ]
  },
  {
   "cell_type": "code",
   "execution_count": 61,
   "metadata": {
    "collapsed": false
   },
   "outputs": [
    {
     "name": "stdout",
     "output_type": "stream",
     "text": [
      "Private             22696\n",
      "Self-emp-not-inc     2541\n",
      "Local-gov            2093\n",
      "State-gov            1298\n",
      "Self-emp-inc         1116\n",
      "Federal-gov           960\n",
      "Without-pay            14\n",
      "Never-worked            7\n",
      "Name: workclass, dtype: int64\n"
     ]
    }
   ],
   "source": [
    "# Execute this cell\n",
    "print income_train['workclass'].value_counts()"
   ]
  },
  {
   "cell_type": "markdown",
   "metadata": {},
   "source": [
    "And let's calculate the mean of a numerical column. This time we will use the dot technique to obtain the column (instead of `income_train['age']`, we will use `income_train.age`."
   ]
  },
  {
   "cell_type": "code",
   "execution_count": 62,
   "metadata": {
    "collapsed": false
   },
   "outputs": [
    {
     "name": "stdout",
     "output_type": "stream",
     "text": [
      "38.5816467553\n"
     ]
    }
   ],
   "source": [
    "# Execute this cell\n",
    "print income_train.age.mean()"
   ]
  },
  {
   "cell_type": "markdown",
   "metadata": {},
   "source": [
    "Next, let's identify all the categorical and numerical columns, and obtain some summary statistics for each one of them. Let's start by identifying categorical columns. I will use the useful Python technique of list comprehension. If this is unfamiliar, you can read about it, e.g., [here](http://www.secnetix.de/olli/Python/list_comprehensions.hawk)."
   ]
  },
  {
   "cell_type": "code",
   "execution_count": 63,
   "metadata": {
    "collapsed": false
   },
   "outputs": [
    {
     "name": "stdout",
     "output_type": "stream",
     "text": [
      "['workclass', 'education', 'marital-status', 'occupation', 'relationship', 'race', 'sex', 'native-country', 'yearly-income']\n"
     ]
    }
   ],
   "source": [
    "# Execute this cell\n",
    "catcols = [c for c in income_train.columns if income_train[c].dtype is np.dtype(object)] #categorical columns\n",
    "print catcols"
   ]
  },
  {
   "cell_type": "code",
   "execution_count": 64,
   "metadata": {
    "collapsed": false
   },
   "outputs": [
    {
     "name": "stdout",
     "output_type": "stream",
     "text": [
      "['age', 'fnlwgt', 'education-num', 'capital-gain', 'capital-loss', 'hours-per-week']\n"
     ]
    }
   ],
   "source": [
    "# [ HW ] Similar to above, define a variable named intcols, which contains the \n",
    "# list of column names for integer columns\n",
    "intcols = [i for i in income_train.columns if income_train[i].dtype is np.dtype(int)]\n",
    "print intcols"
   ]
  },
  {
   "cell_type": "code",
   "execution_count": 65,
   "metadata": {
    "collapsed": false
   },
   "outputs": [
    {
     "name": "stdout",
     "output_type": "stream",
     "text": [
      "workclass\n",
      "Private             22696\n",
      "Self-emp-not-inc     2541\n",
      "Local-gov            2093\n",
      "State-gov            1298\n",
      "Self-emp-inc         1116\n",
      "Federal-gov           960\n",
      "Without-pay            14\n",
      "Never-worked            7\n",
      "Name: workclass, dtype: int64\n",
      "\n",
      "\n",
      "education\n",
      "HS-grad         10501\n",
      "Some-college     7291\n",
      "Bachelors        5355\n",
      "Masters          1723\n",
      "Assoc-voc        1382\n",
      "11th             1175\n",
      "Assoc-acdm       1067\n",
      "10th              933\n",
      "7th-8th           646\n",
      "Prof-school       576\n",
      "9th               514\n",
      "12th              433\n",
      "Doctorate         413\n",
      "5th-6th           333\n",
      "1st-4th           168\n",
      "Preschool          51\n",
      "Name: education, dtype: int64\n",
      "\n",
      "\n",
      "marital-status\n",
      "Married-civ-spouse       14976\n",
      "Never-married            10683\n",
      "Divorced                  4443\n",
      "Separated                 1025\n",
      "Widowed                    993\n",
      "Married-spouse-absent      418\n",
      "Married-AF-spouse           23\n",
      "Name: marital-status, dtype: int64\n",
      "\n",
      "\n",
      "occupation\n",
      "Prof-specialty       4140\n",
      "Craft-repair         4099\n",
      "Exec-managerial      4066\n",
      "Adm-clerical         3770\n",
      "Sales                3650\n",
      "Other-service        3295\n",
      "Machine-op-inspct    2002\n",
      "Transport-moving     1597\n",
      "Handlers-cleaners    1370\n",
      "Farming-fishing       994\n",
      "Tech-support          928\n",
      "Protective-serv       649\n",
      "Priv-house-serv       149\n",
      "Armed-Forces            9\n",
      "Name: occupation, dtype: int64\n",
      "\n",
      "\n",
      "relationship\n",
      "Husband           13193\n",
      "Not-in-family      8305\n",
      "Own-child          5068\n",
      "Unmarried          3446\n",
      "Wife               1568\n",
      "Other-relative      981\n",
      "Name: relationship, dtype: int64\n",
      "\n",
      "\n",
      "race\n",
      "White                 27816\n",
      "Black                  3124\n",
      "Asian-Pac-Islander     1039\n",
      "Amer-Indian-Eskimo      311\n",
      "Other                   271\n",
      "Name: race, dtype: int64\n",
      "\n",
      "\n",
      "sex\n",
      "Male      21790\n",
      "Female    10771\n",
      "Name: sex, dtype: int64\n",
      "\n",
      "\n",
      "native-country\n",
      "United-States                 29170\n",
      "Mexico                          643\n",
      "Philippines                     198\n",
      "Germany                         137\n",
      "Canada                          121\n",
      "Puerto-Rico                     114\n",
      "El-Salvador                     106\n",
      "India                           100\n",
      "Cuba                             95\n",
      "England                          90\n",
      "Jamaica                          81\n",
      "South                            80\n",
      "China                            75\n",
      "Italy                            73\n",
      "Dominican-Republic               70\n",
      "Vietnam                          67\n",
      "Guatemala                        64\n",
      "Japan                            62\n",
      "Poland                           60\n",
      "Columbia                         59\n",
      "Taiwan                           51\n",
      "Haiti                            44\n",
      "Iran                             43\n",
      "Portugal                         37\n",
      "Nicaragua                        34\n",
      "Peru                             31\n",
      "France                           29\n",
      "Greece                           29\n",
      "Ecuador                          28\n",
      "Ireland                          24\n",
      "Hong                             20\n",
      "Trinadad&Tobago                  19\n",
      "Cambodia                         19\n",
      "Laos                             18\n",
      "Thailand                         18\n",
      "Yugoslavia                       16\n",
      "Outlying-US(Guam-USVI-etc)       14\n",
      "Hungary                          13\n",
      "Honduras                         13\n",
      "Scotland                         12\n",
      "Holand-Netherlands                1\n",
      "Name: native-country, dtype: int64\n",
      "\n",
      "\n",
      "yearly-income\n",
      "<=50K    24720\n",
      ">50K      7841\n",
      "Name: yearly-income, dtype: int64\n",
      "\n",
      "\n"
     ]
    }
   ],
   "source": [
    "# [ HW ] Write a for loop that goes over all the categorical columns\n",
    "# one by one, and prints the value counts for all the unique categories that occur in each of them\n",
    "\n",
    "#cat_val_counts = [income_train[col].value_counts() for col in catcols]\n",
    "#print cat_val_counts ## this works but it is not pretty\n",
    "for col in catcols:\n",
    "    print col\n",
    "    print income_train[col].value_counts()\n",
    "    print \"\\n\""
   ]
  },
  {
   "cell_type": "code",
   "execution_count": 66,
   "metadata": {
    "collapsed": false
   },
   "outputs": [
    {
     "name": "stdout",
     "output_type": "stream",
     "text": [
      "age\n",
      "mean\t38.5816467553\n",
      "median\t37.0\n",
      "std\t13.6404325536 \n",
      "\n",
      "fnlwgt\n",
      "mean\t189778.366512\n",
      "median\t178356.0\n",
      "std\t105549.977697 \n",
      "\n",
      "education-num\n",
      "mean\t10.0806793403\n",
      "median\t10.0\n",
      "std\t2.57272033207 \n",
      "\n",
      "capital-gain\n",
      "mean\t1077.64884371\n",
      "median\t0.0\n",
      "std\t7385.29208484 \n",
      "\n",
      "capital-loss\n",
      "mean\t87.303829735\n",
      "median\t0.0\n",
      "std\t402.960218649 \n",
      "\n",
      "hours-per-week\n",
      "mean\t40.4374558521\n",
      "median\t40.0\n",
      "std\t12.3474286817 \n",
      "\n"
     ]
    }
   ],
   "source": [
    "# [ HW ] Next, write a for loop that goes over all the integer columns,\n",
    "# and prints out the mean, median, and standard deviation for all \n",
    "for col in intcols:\n",
    "    print col\n",
    "    print \"mean\\t\",income_train[col].mean()\n",
    "    print \"median\\t\",income_train[col].median()\n",
    "    print \"std\\t\",income_train[col].std(),\"\\n\""
   ]
  },
  {
   "cell_type": "markdown",
   "metadata": {},
   "source": [
    "Pandas has a method called `isnull()` that reports whether an entry is missing or not. Using this, obtain the missing value counts for all the columns of `income_train`. Your code should create a dictionary with the keys being the column names of `income_train`, and the values being the missing value counts."
   ]
  },
  {
   "cell_type": "code",
   "execution_count": 67,
   "metadata": {
    "collapsed": false
   },
   "outputs": [
    {
     "data": {
      "text/plain": [
       "{'age': 0,\n",
       " 'capital-gain': 0,\n",
       " 'capital-loss': 0,\n",
       " 'education': 0,\n",
       " 'education-num': 0,\n",
       " 'fnlwgt': 0,\n",
       " 'hours-per-week': 0,\n",
       " 'marital-status': 0,\n",
       " 'native-country': 583,\n",
       " 'occupation': 1843,\n",
       " 'race': 0,\n",
       " 'relationship': 0,\n",
       " 'sex': 0,\n",
       " 'workclass': 1836,\n",
       " 'yearly-income': 0}"
      ]
     },
     "execution_count": 67,
     "metadata": {},
     "output_type": "execute_result"
    }
   ],
   "source": [
    "# [ HW ] Create a dictionary named missing_val_counts that contains the\n",
    "# number of missing values for each column of income_train\n",
    "missing_val_counts = {col: income_train[col].isnull().sum(axis=0) for col in income_train.columns}\n",
    "missing_val_counts # took some time to figure out :) "
   ]
  },
  {
   "cell_type": "markdown",
   "metadata": {},
   "source": [
    "You can do the problem above by using a `for` loop, but if you want to feel like an expert, you can also use a dictionary comprehension. Here is an example, if you are curious:"
   ]
  },
  {
   "cell_type": "code",
   "execution_count": 68,
   "metadata": {
    "collapsed": false
   },
   "outputs": [
    {
     "name": "stdout",
     "output_type": "stream",
     "text": [
      "{'a': 'a!', 'c': 'c!', 'b': 'b!'}\n",
      "\n",
      "b!\n"
     ]
    }
   ],
   "source": [
    "# A dictionary that has values = exclamation marks appended at the end of keys\n",
    "dict_comprehension_example = {a: a + '!' for a in ['a','b','c']}\n",
    "\n",
    "print dict_comprehension_example\n",
    "print\n",
    "print dict_comprehension_example['b']"
   ]
  },
  {
   "cell_type": "code",
   "execution_count": 69,
   "metadata": {
    "collapsed": false
   },
   "outputs": [
    {
     "data": {
      "text/plain": [
       "7763"
      ]
     },
     "execution_count": 69,
     "metadata": {},
     "output_type": "execute_result"
    }
   ],
   "source": [
    "# [ HW ] Print the number of rows in income_train with the hours-per-week column less than 40\n",
    "\n",
    "income_train[income_train['hours-per-week'] <40].shape[0] # OR\n",
    "income_train['hours-per-week'][income_train['hours-per-week'] <40].count()\n",
    "# I dont know which one is better :) "
   ]
  },
  {
   "cell_type": "markdown",
   "metadata": {},
   "source": [
    "# Visualization"
   ]
  },
  {
   "cell_type": "markdown",
   "metadata": {},
   "source": [
    "Finally, let's do some visualization. I will give a few required problems, but please look at the Seaborn and Matplotlib tutorials, and dive into this dataset as much as you want, and create additional visualizations for yourself."
   ]
  },
  {
   "cell_type": "code",
   "execution_count": 70,
   "metadata": {
    "collapsed": false
   },
   "outputs": [
    {
     "data": {
      "text/plain": [
       "<matplotlib.axes._subplots.AxesSubplot at 0x7f34adf21cd0>"
      ]
     },
     "execution_count": 70,
     "metadata": {},
     "output_type": "execute_result"
    },
    {
     "data": {
      "image/png": "[encoded data removed]",
      "text/plain": [
       "<matplotlib.figure.Figure at 0x7f34ad928750>"
      ]
     },
     "metadata": {},
     "output_type": "display_data"
    }
   ],
   "source": [
    "# [ HW ] Pandas Series objects (i.e., columns of Data Frame objects) have a .hist() method that displays\n",
    "# a histogram. Using this plot a histogram of the age column of income_train\n",
    "income_train.age.hist()"
   ]
  },
  {
   "cell_type": "code",
   "execution_count": 71,
   "metadata": {
    "collapsed": false
   },
   "outputs": [
    {
     "data": {
      "text/plain": [
       "<matplotlib.axes._subplots.AxesSubplot at 0x7f34adf41f90>"
      ]
     },
     "execution_count": 71,
     "metadata": {},
     "output_type": "execute_result"
    },
    {
     "data": {
      "image/png": "[encoded data removed]",
      "text/plain": [
       "<matplotlib.figure.Figure at 0x7f34adfc6890>"
      ]
     },
     "metadata": {},
     "output_type": "display_data"
    }
   ],
   "source": [
    "# [ HW ] Using the distplot() function of Seaborn (i.e., sns.distplot()), plot the\n",
    "# distribution of the age column in income_train. This will show a continuous\n",
    "# plot of the density, superposed with a histogram.\n",
    "\n",
    "sns.distplot(income_train.age) ## STANFORD SEABORN SITE IS INACCESSIBLE :'("
   ]
  },
  {
   "cell_type": "markdown",
   "metadata": {},
   "source": [
    "Feel free to expand on the basic requirement above, adding a plot title, axis labels, and playing with the additional options. (Not a requirement for the homework)"
   ]
  },
  {
   "cell_type": "code",
   "execution_count": 72,
   "metadata": {
    "collapsed": false
   },
   "outputs": [
    {
     "data": {
      "text/plain": [
       "<matplotlib.axes._subplots.AxesSubplot at 0x7f34ade33a10>"
      ]
     },
     "execution_count": 72,
     "metadata": {},
     "output_type": "execute_result"
    },
    {
     "data": {
      "image/png": "[encoded data removed]",
      "text/plain": [
       "<matplotlib.figure.Figure at 0x7f34ad67fad0>"
      ]
     },
     "metadata": {},
     "output_type": "display_data"
    }
   ],
   "source": [
    "# [ HW ] Repeat the distplot() exercise above for a few other numerical (integer) columns\n",
    "\n",
    "sns.distplot(income_train['hours-per-week'])"
   ]
  },
  {
   "cell_type": "code",
   "execution_count": 95,
   "metadata": {
    "collapsed": false
   },
   "outputs": [
    {
     "data": {
      "text/plain": [
       "<matplotlib.axes._subplots.AxesSubplot at 0x7f34b2ab5b90>"
      ]
     },
     "execution_count": 95,
     "metadata": {},
     "output_type": "execute_result"
    },
    {
     "data": {
      "image/png": "[encoded data removed]",
      "text/plain": [
       "<matplotlib.figure.Figure at 0x7f34aa06ff90>"
      ]
     },
     "metadata": {},
     "output_type": "display_data"
    }
   ],
   "source": [
    "# [ HW ] Read about box plots from Wikipedia if you are not already familiar with \n",
    "# them (https://en.wikipedia.org/wiki/Box_plot), and using the boxplot() function of\n",
    "# Seaborn, get a boxplot for the age column of income_train\n",
    "plt.figure(figsize=(18,7))\n",
    "#sns.boxplot(income_train.age,income_train.age.value_counts())\n",
    "sns.boxplot(income_train.age)"
   ]
  },
  {
   "cell_type": "code",
   "execution_count": 86,
   "metadata": {
    "collapsed": false
   },
   "outputs": [
    {
     "data": {
      "text/plain": [
       "<matplotlib.axes._subplots.AxesSubplot at 0x7f34ac080a90>"
      ]
     },
     "execution_count": 86,
     "metadata": {},
     "output_type": "execute_result"
    },
    {
     "data": {
      "image/png": "[encoded data removed]",
      "text/plain": [
       "<matplotlib.figure.Figure at 0x7f34ac080a10>"
      ]
     },
     "metadata": {},
     "output_type": "display_data"
    }
   ],
   "source": [
    "# ????????????????????????????????????????????????????????????????????? #\n",
    "# ????????????????????????????????????????????????????????????????????? #\n",
    "# ????????????????????????????????????????????????????????????????????? #\n",
    "# ????????????????????????????????????????????????????????????????????? #\n",
    "# [ HW ] Again using boxplot(), obtain a seris of boxplots for the \n",
    "# hours-per-week column; one plot per workclass category\n",
    "# Note that you don't need to write a loop; you can do this in one \n",
    "# single sns.boxplot() command\n",
    "\n",
    "plt.figure(figsize=(18,7))\n",
    "sns.boxplot(income_train['hours-per-week'], groupby=income_train['workclass'])\n"
   ]
  },
  {
   "cell_type": "markdown",
   "metadata": {},
   "source": [
    "You can use the Matplotlib plot command with a symbol to get scatter plots. Here is an example:"
   ]
  },
  {
   "cell_type": "code",
   "execution_count": 87,
   "metadata": {
    "collapsed": false
   },
   "outputs": [
    {
     "data": {
      "image/png": "[encoded data removed]",
      "text/plain": [
       "<matplotlib.figure.Figure at 0x7f34ac014690>"
      ]
     },
     "metadata": {},
     "output_type": "display_data"
    }
   ],
   "source": [
    "x_rand = np.random.rand(1000)\n",
    "y_rand = np.random.randn(1000)\n",
    "plt.plot(x_rand,y_rand,'.')\n",
    "plt.show()"
   ]
  },
  {
   "cell_type": "code",
   "execution_count": 88,
   "metadata": {
    "collapsed": false
   },
   "outputs": [
    {
     "data": {
      "text/plain": [
       "<matplotlib.text.Text at 0x7f34ac80ad50>"
      ]
     },
     "execution_count": 88,
     "metadata": {},
     "output_type": "execute_result"
    },
    {
     "data": {
      "image/png": "[encoded data removed]",
      "text/plain": [
       "<matplotlib.figure.Figure at 0x7f34ac687650>"
      ]
     },
     "metadata": {},
     "output_type": "display_data"
    }
   ],
   "source": [
    "# [ HW ] Obtain a scatter plot of age vs. hours-per-week for the \n",
    "# income_train dataset\n",
    "\n",
    "plt.plot(income_train['age'],income_train['hours-per-week'],'.')\n",
    "plt.xlabel('age')\n",
    "plt.ylabel('hours per week')"
   ]
  },
  {
   "cell_type": "code",
   "execution_count": 112,
   "metadata": {
    "collapsed": false
   },
   "outputs": [
    {
     "data": {
      "text/plain": [
       "<matplotlib.axes._subplots.AxesSubplot at 0x7f34a9b07e10>"
      ]
     },
     "execution_count": 112,
     "metadata": {},
     "output_type": "execute_result"
    },
    {
     "data": {
      "image/png": "[encoded data removed]",
      "text/plain": [
       "<matplotlib.figure.Figure at 0x7f34a9b07210>"
      ]
     },
     "metadata": {},
     "output_type": "display_data"
    }
   ],
   "source": [
    "# [ HW ] Dive into Matplotlib and Seaborn examples online, and create at least 3 more plots of your own, \n",
    "# using the income_train dataset. Visualize things you are curious about!\n",
    "\n",
    "plt.figure(figsize=(18,7))\n",
    "sns.boxplot(income_train['education-num'], groupby=income_train['race'])"
   ]
  },
  {
   "cell_type": "code",
   "execution_count": 141,
   "metadata": {
    "collapsed": false
   },
   "outputs": [
    {
     "data": {
      "image/png": "[encoded data removed]",
      "text/plain": [
       "<matplotlib.figure.Figure at 0x7f34a87b8b10>"
      ]
     },
     "metadata": {},
     "output_type": "display_data"
    }
   ],
   "source": [
    "mean_by_education = income_train[ [col for col in intcols] ].groupby('education-num').mean() \n",
    "mean_by_education.head()\n",
    "\n",
    "plt.plot(mean_by_education['age'],'.')\n",
    "\n",
    "# fit_fn is now a function which takes in x and returns an estimate for y ##http://stackoverflow.com/questions/6148207/linear-regression-with-matplotlib-numpy\n",
    "fit = np.polyfit(mean_by_education.index,mean_by_education['age'],1)\n",
    "fit_fn = np.poly1d(fit) \n",
    "plt.plot(mean_by_education.index, fit_fn(mean_by_education.index), '-k')\n",
    "\n",
    "plt.show()"
   ]
  },
  {
   "cell_type": "code",
   "execution_count": 158,
   "metadata": {
    "collapsed": false
   },
   "outputs": [
    {
     "data": {
      "image/png": "[encoded data removed]",
      "text/plain": [
       "<matplotlib.figure.Figure at 0x7f3493bedb10>"
      ]
     },
     "metadata": {},
     "output_type": "display_data"
    }
   ],
   "source": [
    "#mean_by_education = income_train[ [col for col in intcols] ].groupby('education-num').mean() \n",
    "#mean_by_education.head()\n",
    "\n",
    "income_train['log_age'].hist(normed=True)\n",
    "from scipy.stats import norm\n",
    "mu, std = norm.fit(income_train['log_age'])\n",
    "x = np.linspace(1.5,6,75)\n",
    "y = norm.pdf(x,mu,std)\n",
    "plt.plot(x,y,\"r-\",label=\"Normal Fit\")\n",
    "plt.show()"
   ]
  },
  {
   "cell_type": "markdown",
   "metadata": {},
   "source": [
    "## normal dist fits the log_age best compared to age and normalized age"
   ]
  },
  {
   "cell_type": "code",
   "execution_count": 156,
   "metadata": {
    "collapsed": false
   },
   "outputs": [
    {
     "data": {
      "image/png": "[encoded data removed]",
      "text/plain": [
       "<matplotlib.figure.Figure at 0x7f3493e54a50>"
      ]
     },
     "metadata": {},
     "output_type": "display_data"
    }
   ],
   "source": [
    "income_train['age'].hist(normed=True)\n",
    "mu, std = norm.fit(income_train['age'])\n",
    "x = np.linspace(0,100,100)\n",
    "y = norm.pdf(x,mu,std)\n",
    "plt.plot(x,y,\"r-\",label=\"Normal Fit\")\n",
    "plt.show()"
   ]
  },
  {
   "cell_type": "code",
   "execution_count": 155,
   "metadata": {
    "collapsed": false
   },
   "outputs": [
    {
     "data": {
      "image/png": "[encoded data removed]",
      "text/plain": [
       "<matplotlib.figure.Figure at 0x7f3493e84050>"
      ]
     },
     "metadata": {},
     "output_type": "display_data"
    }
   ],
   "source": [
    "income_train['normalized_age'].hist(normed=True)\n",
    "mu, std = norm.fit(income_train['normalized_age'])\n",
    "x = np.linspace(-5,5,100)\n",
    "y = norm.pdf(x,mu,std)\n",
    "plt.plot(x,y,\"r-\",label=\"Normal Fit\")\n",
    "plt.show()"
   ]
  },
  {
   "cell_type": "code",
   "execution_count": 164,
   "metadata": {
    "collapsed": false
   },
   "outputs": [
    {
     "data": {
      "image/png": "[encoded data removed]",
      "text/plain": [
       "<matplotlib.figure.Figure at 0x7f34a8ba9b90>"
      ]
     },
     "metadata": {},
     "output_type": "display_data"
    }
   ],
   "source": [
    "plt.plot(income_train['age'], income_train['hpv_over_age'], '.')\n",
    "\n",
    "fit = np.polyfit(income_train['age'],income_train['hpv_over_age'],1)\n",
    "fit_fn = np.poly1d(fit) \n",
    "plt.plot(income_train['age'], fit_fn(income_train['age']), '-k')\n",
    "plt.xlabel('age')\n",
    "plt.ylabel('hours_per_week / age')\n",
    "\n",
    "plt.show()"
   ]
  },
  {
   "cell_type": "markdown",
   "metadata": {},
   "source": [
    "# Basic transformation and featurization"
   ]
  },
  {
   "cell_type": "code",
   "execution_count": 90,
   "metadata": {
    "collapsed": false
   },
   "outputs": [
    {
     "data": {
      "text/html": [
       "<div>\n",
       "<table border=\"1\" class=\"dataframe\">\n",
       "  <thead>\n",
       "    <tr style=\"text-align: right;\">\n",
       "      <th></th>\n",
       "      <th>age</th>\n",
       "      <th>log_age</th>\n",
       "    </tr>\n",
       "  </thead>\n",
       "  <tbody>\n",
       "    <tr>\n",
       "      <th>0</th>\n",
       "      <td>39</td>\n",
       "      <td>3.663562</td>\n",
       "    </tr>\n",
       "    <tr>\n",
       "      <th>1</th>\n",
       "      <td>50</td>\n",
       "      <td>3.912023</td>\n",
       "    </tr>\n",
       "    <tr>\n",
       "      <th>2</th>\n",
       "      <td>38</td>\n",
       "      <td>3.637586</td>\n",
       "    </tr>\n",
       "    <tr>\n",
       "      <th>3</th>\n",
       "      <td>53</td>\n",
       "      <td>3.970292</td>\n",
       "    </tr>\n",
       "    <tr>\n",
       "      <th>4</th>\n",
       "      <td>28</td>\n",
       "      <td>3.332205</td>\n",
       "    </tr>\n",
       "  </tbody>\n",
       "</table>\n",
       "</div>"
      ],
      "text/plain": [
       "   age   log_age\n",
       "0   39  3.663562\n",
       "1   50  3.912023\n",
       "2   38  3.637586\n",
       "3   53  3.970292\n",
       "4   28  3.332205"
      ]
     },
     "execution_count": 90,
     "metadata": {},
     "output_type": "execute_result"
    }
   ],
   "source": [
    "# [ HW ] Create a new column in income_train called log_age that contains the logarithms of the ages\n",
    "income_train['log_age'] = income_train['age'].apply(np.log)\n",
    "income_train[['age','log_age']].head()"
   ]
  },
  {
   "cell_type": "code",
   "execution_count": 91,
   "metadata": {
    "collapsed": false
   },
   "outputs": [],
   "source": [
    "# [ HW ] Replace the missing values in the native-country column with the string 'unknown_country'\n",
    "\n",
    "#temp_test = income_train['native-country'].fillna('unknown_country')\n",
    "#temp_test.unique()\n",
    "income_train['native_country'] = income_train['native-country'].fillna('unknown_country')\n"
   ]
  },
  {
   "cell_type": "code",
   "execution_count": 92,
   "metadata": {
    "collapsed": false
   },
   "outputs": [
    {
     "data": {
      "text/html": [
       "<div>\n",
       "<table border=\"1\" class=\"dataframe\">\n",
       "  <thead>\n",
       "    <tr style=\"text-align: right;\">\n",
       "      <th></th>\n",
       "      <th>hours-per-week</th>\n",
       "      <th>age</th>\n",
       "      <th>hpv_over_age</th>\n",
       "    </tr>\n",
       "  </thead>\n",
       "  <tbody>\n",
       "    <tr>\n",
       "      <th>0</th>\n",
       "      <td>40</td>\n",
       "      <td>39</td>\n",
       "      <td>1.025641</td>\n",
       "    </tr>\n",
       "    <tr>\n",
       "      <th>1</th>\n",
       "      <td>13</td>\n",
       "      <td>50</td>\n",
       "      <td>0.260000</td>\n",
       "    </tr>\n",
       "    <tr>\n",
       "      <th>2</th>\n",
       "      <td>40</td>\n",
       "      <td>38</td>\n",
       "      <td>1.052632</td>\n",
       "    </tr>\n",
       "    <tr>\n",
       "      <th>3</th>\n",
       "      <td>40</td>\n",
       "      <td>53</td>\n",
       "      <td>0.754717</td>\n",
       "    </tr>\n",
       "    <tr>\n",
       "      <th>4</th>\n",
       "      <td>40</td>\n",
       "      <td>28</td>\n",
       "      <td>1.428571</td>\n",
       "    </tr>\n",
       "  </tbody>\n",
       "</table>\n",
       "</div>"
      ],
      "text/plain": [
       "   hours-per-week  age  hpv_over_age\n",
       "0              40   39      1.025641\n",
       "1              13   50      0.260000\n",
       "2              40   38      1.052632\n",
       "3              40   53      0.754717\n",
       "4              40   28      1.428571"
      ]
     },
     "execution_count": 92,
     "metadata": {},
     "output_type": "execute_result"
    }
   ],
   "source": [
    "# [ HW ] Create a new column in income_train called hpv_over_age that contains the\n",
    "# hours-per-week column divided by the age column\n",
    "\n",
    "income_train['hpv_over_age'] = income_train['hours-per-week'] / income_train['age']\n",
    "income_train[['hours-per-week','age','hpv_over_age']].head()"
   ]
  },
  {
   "cell_type": "code",
   "execution_count": 93,
   "metadata": {
    "collapsed": false
   },
   "outputs": [
    {
     "name": "stdout",
     "output_type": "stream",
     "text": [
      "mean\t38.5816467553\n",
      "std\t13.6404325536\n"
     ]
    },
    {
     "data": {
      "text/html": [
       "<div>\n",
       "<table border=\"1\" class=\"dataframe\">\n",
       "  <thead>\n",
       "    <tr style=\"text-align: right;\">\n",
       "      <th></th>\n",
       "      <th>normalized_age</th>\n",
       "      <th>age</th>\n",
       "    </tr>\n",
       "  </thead>\n",
       "  <tbody>\n",
       "    <tr>\n",
       "      <th>0</th>\n",
       "      <td>0.030670</td>\n",
       "      <td>39</td>\n",
       "    </tr>\n",
       "    <tr>\n",
       "      <th>1</th>\n",
       "      <td>0.837096</td>\n",
       "      <td>50</td>\n",
       "    </tr>\n",
       "    <tr>\n",
       "      <th>2</th>\n",
       "      <td>-0.042641</td>\n",
       "      <td>38</td>\n",
       "    </tr>\n",
       "    <tr>\n",
       "      <th>3</th>\n",
       "      <td>1.057031</td>\n",
       "      <td>53</td>\n",
       "    </tr>\n",
       "    <tr>\n",
       "      <th>4</th>\n",
       "      <td>-0.775756</td>\n",
       "      <td>28</td>\n",
       "    </tr>\n",
       "  </tbody>\n",
       "</table>\n",
       "</div>"
      ],
      "text/plain": [
       "   normalized_age  age\n",
       "0        0.030670   39\n",
       "1        0.837096   50\n",
       "2       -0.042641   38\n",
       "3        1.057031   53\n",
       "4       -0.775756   28"
      ]
     },
     "execution_count": 93,
     "metadata": {},
     "output_type": "execute_result"
    }
   ],
   "source": [
    "# [ HW ] Create a new column in income_train called normalized_age that consists of \n",
    "# (age - (mean age)) / (standard deviation of age), i.e. subtract the average age \n",
    "# from the age of every body, and divide the result by the standard deviation of the age\n",
    "\n",
    "income_train['normalized_age'] = (income_train['age'] - income_train['age'].mean()) / income_train['age'].std()\n",
    "print \"mean\\t\",income_train['age'].mean()\n",
    "print \"std\\t\",income_train['age'].std()\n",
    "income_train [ ['normalized_age','age'] ] .head()"
   ]
  }
 ],
 "metadata": {
  "kernelspec": {
   "display_name": "Python 2",
   "language": "python",
   "name": "python2"
  },
  "language_info": {
   "codemirror_mode": {
    "name": "ipython",
    "version": 2
   },
   "file_extension": ".py",
   "mimetype": "text/x-python",
   "name": "python",
   "nbconvert_exporter": "python",
   "pygments_lexer": "ipython2",
   "version": "2.7.12"
  }
 },
 "nbformat": 4,
 "nbformat_minor": 0
}
