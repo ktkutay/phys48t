{
 "cells": [
  {
   "cell_type": "markdown",
   "metadata": {},
   "source": [
    "# Assignment 4: Manipulating data part 2, and \"human learning\""
   ]
  },
  {
   "cell_type": "markdown",
   "metadata": {},
   "source": [
    "In this assigmnent, we will continue our dive into the tasks of manipulating and cleaning data, and will try to learn from a dataset as humans.\n",
    "\n",
    "- I will stop using the __`[ HW ]`__ notation from now on. Please read and follow all the instructions in the notebook."
   ]
  },
  {
   "cell_type": "markdown",
   "metadata": {},
   "source": [
    "## Reading, inspecting, cleaning data to prepare for learning"
   ]
  },
  {
   "cell_type": "code",
   "execution_count": 102,
   "metadata": {
    "collapsed": false
   },
   "outputs": [
    {
     "data": {
      "application/javascript": [
       "\n",
       "IPython.OutputArea.prototype._should_scroll = function(lines) {\n",
       "    return false;\n",
       "}\n"
      ],
      "text/plain": [
       "<IPython.core.display.Javascript object>"
      ]
     },
     "metadata": {},
     "output_type": "display_data"
    }
   ],
   "source": [
    "# As we did in the previous assignment, import the libraries Pandas,\n",
    "# NumPy, Matplotlib, Seaborn, and run the appropriate IPython magic\n",
    "# command for Matplotlib to make the plots display inside the notebook \n",
    "# (inline). \n",
    "\n",
    "\n",
    "import matplotlib.pyplot as plt\n",
    "%matplotlib inline\n",
    "import seaborn as sns\n",
    "import numpy as np\n",
    "import pandas as pd \n",
    "\n",
    "##disable ipython autoscroll for large outputs\n",
    "from IPython.display import display, Javascript\n",
    "disable_js = \"\"\"\n",
    "IPython.OutputArea.prototype._should_scroll = function(lines) {\n",
    "    return false;\n",
    "}\n",
    "\"\"\"\n",
    "display(Javascript(disable_js))"
   ]
  },
  {
   "cell_type": "markdown",
   "metadata": {},
   "source": [
    "As in the previous assignment, you will find the two datasets, `income_train.csv` and `income_test.csv` in the `data` subdirectory. \n",
    "\n",
    "Use Pandas to read the two data files into DataFrame objects named `income_train` and `income_test`. \n",
    "Recall that the symbol `?` stands for a missing value; make sure to take that into account when\n",
    "reading the data. Once you read the two datasets, display their \"head\"s (i.e., their first few rows). "
   ]
  },
  {
   "cell_type": "code",
   "execution_count": 103,
   "metadata": {
    "collapsed": false
   },
   "outputs": [
    {
     "data": {
      "text/html": [
       "<div>\n",
       "<table border=\"1\" class=\"dataframe\">\n",
       "  <thead>\n",
       "    <tr style=\"text-align: right;\">\n",
       "      <th></th>\n",
       "      <th>age</th>\n",
       "      <th>workclass</th>\n",
       "      <th>fnlwgt</th>\n",
       "      <th>education</th>\n",
       "      <th>education-num</th>\n",
       "      <th>marital-status</th>\n",
       "      <th>occupation</th>\n",
       "      <th>relationship</th>\n",
       "      <th>race</th>\n",
       "      <th>sex</th>\n",
       "      <th>capital-gain</th>\n",
       "      <th>capital-loss</th>\n",
       "      <th>hours-per-week</th>\n",
       "      <th>native-country</th>\n",
       "      <th>yearly-income</th>\n",
       "    </tr>\n",
       "  </thead>\n",
       "  <tbody>\n",
       "    <tr>\n",
       "      <th>0</th>\n",
       "      <td>39</td>\n",
       "      <td>State-gov</td>\n",
       "      <td>77516</td>\n",
       "      <td>Bachelors</td>\n",
       "      <td>13</td>\n",
       "      <td>Never-married</td>\n",
       "      <td>Adm-clerical</td>\n",
       "      <td>Not-in-family</td>\n",
       "      <td>White</td>\n",
       "      <td>Male</td>\n",
       "      <td>2174</td>\n",
       "      <td>0</td>\n",
       "      <td>40</td>\n",
       "      <td>United-States</td>\n",
       "      <td>&lt;=50K</td>\n",
       "    </tr>\n",
       "    <tr>\n",
       "      <th>1</th>\n",
       "      <td>50</td>\n",
       "      <td>Self-emp-not-inc</td>\n",
       "      <td>83311</td>\n",
       "      <td>Bachelors</td>\n",
       "      <td>13</td>\n",
       "      <td>Married-civ-spouse</td>\n",
       "      <td>Exec-managerial</td>\n",
       "      <td>Husband</td>\n",
       "      <td>White</td>\n",
       "      <td>Male</td>\n",
       "      <td>0</td>\n",
       "      <td>0</td>\n",
       "      <td>13</td>\n",
       "      <td>United-States</td>\n",
       "      <td>&lt;=50K</td>\n",
       "    </tr>\n",
       "    <tr>\n",
       "      <th>2</th>\n",
       "      <td>38</td>\n",
       "      <td>Private</td>\n",
       "      <td>215646</td>\n",
       "      <td>HS-grad</td>\n",
       "      <td>9</td>\n",
       "      <td>Divorced</td>\n",
       "      <td>Handlers-cleaners</td>\n",
       "      <td>Not-in-family</td>\n",
       "      <td>White</td>\n",
       "      <td>Male</td>\n",
       "      <td>0</td>\n",
       "      <td>0</td>\n",
       "      <td>40</td>\n",
       "      <td>United-States</td>\n",
       "      <td>&lt;=50K</td>\n",
       "    </tr>\n",
       "    <tr>\n",
       "      <th>3</th>\n",
       "      <td>53</td>\n",
       "      <td>Private</td>\n",
       "      <td>234721</td>\n",
       "      <td>11th</td>\n",
       "      <td>7</td>\n",
       "      <td>Married-civ-spouse</td>\n",
       "      <td>Handlers-cleaners</td>\n",
       "      <td>Husband</td>\n",
       "      <td>Black</td>\n",
       "      <td>Male</td>\n",
       "      <td>0</td>\n",
       "      <td>0</td>\n",
       "      <td>40</td>\n",
       "      <td>United-States</td>\n",
       "      <td>&lt;=50K</td>\n",
       "    </tr>\n",
       "    <tr>\n",
       "      <th>4</th>\n",
       "      <td>28</td>\n",
       "      <td>Private</td>\n",
       "      <td>338409</td>\n",
       "      <td>Bachelors</td>\n",
       "      <td>13</td>\n",
       "      <td>Married-civ-spouse</td>\n",
       "      <td>Prof-specialty</td>\n",
       "      <td>Wife</td>\n",
       "      <td>Black</td>\n",
       "      <td>Female</td>\n",
       "      <td>0</td>\n",
       "      <td>0</td>\n",
       "      <td>40</td>\n",
       "      <td>Cuba</td>\n",
       "      <td>&lt;=50K</td>\n",
       "    </tr>\n",
       "  </tbody>\n",
       "</table>\n",
       "</div>"
      ],
      "text/plain": [
       "   age         workclass  fnlwgt  education  education-num  \\\n",
       "0   39         State-gov   77516  Bachelors             13   \n",
       "1   50  Self-emp-not-inc   83311  Bachelors             13   \n",
       "2   38           Private  215646    HS-grad              9   \n",
       "3   53           Private  234721       11th              7   \n",
       "4   28           Private  338409  Bachelors             13   \n",
       "\n",
       "       marital-status         occupation   relationship   race     sex  \\\n",
       "0       Never-married       Adm-clerical  Not-in-family  White    Male   \n",
       "1  Married-civ-spouse    Exec-managerial        Husband  White    Male   \n",
       "2            Divorced  Handlers-cleaners  Not-in-family  White    Male   \n",
       "3  Married-civ-spouse  Handlers-cleaners        Husband  Black    Male   \n",
       "4  Married-civ-spouse     Prof-specialty           Wife  Black  Female   \n",
       "\n",
       "   capital-gain  capital-loss  hours-per-week native-country yearly-income  \n",
       "0          2174             0              40  United-States         <=50K  \n",
       "1             0             0              13  United-States         <=50K  \n",
       "2             0             0              40  United-States         <=50K  \n",
       "3             0             0              40  United-States         <=50K  \n",
       "4             0             0              40           Cuba         <=50K  "
      ]
     },
     "execution_count": 103,
     "metadata": {},
     "output_type": "execute_result"
    }
   ],
   "source": [
    "income_train = pd.read_csv('data/income_train.csv', na_values=['?'])\n",
    "income_test = pd.read_csv('data/income_test.csv', na_values=['?'])\n",
    "\n",
    "income_train.head()"
   ]
  },
  {
   "cell_type": "code",
   "execution_count": 104,
   "metadata": {
    "collapsed": false
   },
   "outputs": [
    {
     "data": {
      "text/html": [
       "<div>\n",
       "<table border=\"1\" class=\"dataframe\">\n",
       "  <thead>\n",
       "    <tr style=\"text-align: right;\">\n",
       "      <th></th>\n",
       "      <th>age</th>\n",
       "      <th>workclass</th>\n",
       "      <th>fnlwgt</th>\n",
       "      <th>education</th>\n",
       "      <th>education-num</th>\n",
       "      <th>marital-status</th>\n",
       "      <th>occupation</th>\n",
       "      <th>relationship</th>\n",
       "      <th>race</th>\n",
       "      <th>sex</th>\n",
       "      <th>capital-gain</th>\n",
       "      <th>capital-loss</th>\n",
       "      <th>hours-per-week</th>\n",
       "      <th>native-country</th>\n",
       "      <th>yearly-income</th>\n",
       "    </tr>\n",
       "  </thead>\n",
       "  <tbody>\n",
       "    <tr>\n",
       "      <th>0</th>\n",
       "      <td>25</td>\n",
       "      <td>Private</td>\n",
       "      <td>226802</td>\n",
       "      <td>11th</td>\n",
       "      <td>7</td>\n",
       "      <td>Never-married</td>\n",
       "      <td>Machine-op-inspct</td>\n",
       "      <td>Own-child</td>\n",
       "      <td>Black</td>\n",
       "      <td>Male</td>\n",
       "      <td>0</td>\n",
       "      <td>0</td>\n",
       "      <td>40</td>\n",
       "      <td>United-States</td>\n",
       "      <td>&lt;=50K.</td>\n",
       "    </tr>\n",
       "    <tr>\n",
       "      <th>1</th>\n",
       "      <td>38</td>\n",
       "      <td>Private</td>\n",
       "      <td>89814</td>\n",
       "      <td>HS-grad</td>\n",
       "      <td>9</td>\n",
       "      <td>Married-civ-spouse</td>\n",
       "      <td>Farming-fishing</td>\n",
       "      <td>Husband</td>\n",
       "      <td>White</td>\n",
       "      <td>Male</td>\n",
       "      <td>0</td>\n",
       "      <td>0</td>\n",
       "      <td>50</td>\n",
       "      <td>United-States</td>\n",
       "      <td>&lt;=50K.</td>\n",
       "    </tr>\n",
       "    <tr>\n",
       "      <th>2</th>\n",
       "      <td>28</td>\n",
       "      <td>Local-gov</td>\n",
       "      <td>336951</td>\n",
       "      <td>Assoc-acdm</td>\n",
       "      <td>12</td>\n",
       "      <td>Married-civ-spouse</td>\n",
       "      <td>Protective-serv</td>\n",
       "      <td>Husband</td>\n",
       "      <td>White</td>\n",
       "      <td>Male</td>\n",
       "      <td>0</td>\n",
       "      <td>0</td>\n",
       "      <td>40</td>\n",
       "      <td>United-States</td>\n",
       "      <td>&gt;50K.</td>\n",
       "    </tr>\n",
       "    <tr>\n",
       "      <th>3</th>\n",
       "      <td>44</td>\n",
       "      <td>Private</td>\n",
       "      <td>160323</td>\n",
       "      <td>Some-college</td>\n",
       "      <td>10</td>\n",
       "      <td>Married-civ-spouse</td>\n",
       "      <td>Machine-op-inspct</td>\n",
       "      <td>Husband</td>\n",
       "      <td>Black</td>\n",
       "      <td>Male</td>\n",
       "      <td>7688</td>\n",
       "      <td>0</td>\n",
       "      <td>40</td>\n",
       "      <td>United-States</td>\n",
       "      <td>&gt;50K.</td>\n",
       "    </tr>\n",
       "    <tr>\n",
       "      <th>4</th>\n",
       "      <td>18</td>\n",
       "      <td>NaN</td>\n",
       "      <td>103497</td>\n",
       "      <td>Some-college</td>\n",
       "      <td>10</td>\n",
       "      <td>Never-married</td>\n",
       "      <td>NaN</td>\n",
       "      <td>Own-child</td>\n",
       "      <td>White</td>\n",
       "      <td>Female</td>\n",
       "      <td>0</td>\n",
       "      <td>0</td>\n",
       "      <td>30</td>\n",
       "      <td>United-States</td>\n",
       "      <td>&lt;=50K.</td>\n",
       "    </tr>\n",
       "  </tbody>\n",
       "</table>\n",
       "</div>"
      ],
      "text/plain": [
       "   age  workclass  fnlwgt     education  education-num      marital-status  \\\n",
       "0   25    Private  226802          11th              7       Never-married   \n",
       "1   38    Private   89814       HS-grad              9  Married-civ-spouse   \n",
       "2   28  Local-gov  336951    Assoc-acdm             12  Married-civ-spouse   \n",
       "3   44    Private  160323  Some-college             10  Married-civ-spouse   \n",
       "4   18        NaN  103497  Some-college             10       Never-married   \n",
       "\n",
       "          occupation relationship   race     sex  capital-gain  capital-loss  \\\n",
       "0  Machine-op-inspct    Own-child  Black    Male             0             0   \n",
       "1    Farming-fishing      Husband  White    Male             0             0   \n",
       "2    Protective-serv      Husband  White    Male             0             0   \n",
       "3  Machine-op-inspct      Husband  Black    Male          7688             0   \n",
       "4                NaN    Own-child  White  Female             0             0   \n",
       "\n",
       "   hours-per-week native-country yearly-income  \n",
       "0              40  United-States        <=50K.  \n",
       "1              50  United-States        <=50K.  \n",
       "2              40  United-States         >50K.  \n",
       "3              40  United-States         >50K.  \n",
       "4              30  United-States        <=50K.  "
      ]
     },
     "execution_count": 104,
     "metadata": {},
     "output_type": "execute_result"
    }
   ],
   "source": [
    "income_test.head()"
   ]
  },
  {
   "cell_type": "markdown",
   "metadata": {},
   "source": [
    "Do you notice something interesting/weird when you look at/compare the two datasets? Don't worry if not, we will explore the weirdness below, but it is always a good idea to take a look at the raw data with your naked eyes, even if just a few rows of it. If you can remind me during our next meeting, I'll tell you a relevant personal [war story](http://www.merriam-webster.com/dictionary/war%20story) involving months of confusion and a lot of money (not mine!)"
   ]
  },
  {
   "cell_type": "markdown",
   "metadata": {},
   "source": [
    "In the last homework, we obtained the lists of unique values that occur in all the categorical columns of the data set `income_train`. Let's do the same thing for both of the datasets now.\n",
    "\n",
    "- As in the last homework, define two lists, `cat_cols_train` and `cat_cols_test` that contains the list of categorical columns in the two datasets. \n",
    "- Confirm that the two lists consist of the same elements."
   ]
  },
  {
   "cell_type": "code",
   "execution_count": 105,
   "metadata": {
    "collapsed": false
   },
   "outputs": [],
   "source": [
    "## your code here\n",
    "\n",
    "cat_cols_train = [c for c in income_train.columns if income_train[c].dtype is np.dtype(object)]\n",
    "cat_cols_test =  [c for c in income_test.columns if income_test[c].dtype is np.dtype(object)]"
   ]
  },
  {
   "cell_type": "markdown",
   "metadata": {},
   "source": [
    "Next, create two dictionaries, `train_categories` and `test_categories`, where the __keys__ of the dictionary are the categorical column names, and the __values__ in the dictionary contain the unique values that occur in the corresponding category. (Read on Python dictionaries if you need to refresh your memory on keys and values)\n",
    "\n",
    "For example, since we have"
   ]
  },
  {
   "cell_type": "code",
   "execution_count": 106,
   "metadata": {
    "collapsed": false
   },
   "outputs": [
    {
     "name": "stdout",
     "output_type": "stream",
     "text": [
      "['Male' 'Female']\n"
     ]
    }
   ],
   "source": [
    "print income_train['sex'].unique()"
   ]
  },
  {
   "cell_type": "markdown",
   "metadata": {},
   "source": [
    "the `'sex'` key in the `train_categories` dictionary will have the value `['Male', 'Female']`."
   ]
  },
  {
   "cell_type": "code",
   "execution_count": 107,
   "metadata": {
    "collapsed": false
   },
   "outputs": [],
   "source": [
    "# Create dictionaries containing the unique categories for all the categorical \n",
    "# columns (one dictionary per dataset). You are free to do this in any way you want, but\n",
    "# the \"dictionary comprehension\" technique we saw in the last homework is a quite practical\n",
    "# (and idiomatic) way.\n",
    "\n",
    "## your code here \n",
    "\n",
    "train_categories = {c:income_train[c].unique() for c in cat_cols_train}\n",
    "test_categories = {c:income_test[c].unique() for c in cat_cols_test}"
   ]
  },
  {
   "cell_type": "markdown",
   "metadata": {},
   "source": [
    "Next, let's check if the two sets of categories agree. Create a list, `disagree_cols`, that holds the names of the columns for which the lists of categories don't agree between the two datasets. Please do this programmatically, i.e., don't create these lists by manually selecting the columns after visually inspecting them (you are free to visually inspect them if you want, though). \n",
    "\n",
    "This should give you two columns."
   ]
  },
  {
   "cell_type": "markdown",
   "metadata": {},
   "source": [
    "Again, you are free to do this any way you want, but here is a helpful trick if you want to use it:"
   ]
  },
  {
   "cell_type": "code",
   "execution_count": 108,
   "metadata": {
    "collapsed": false
   },
   "outputs": [
    {
     "name": "stdout",
     "output_type": "stream",
     "text": [
      "As sets rather than lists:\n",
      "a==b:  True\n",
      "a==c:  True\n",
      "a==d:  False\n",
      "a!=d:  True\n"
     ]
    }
   ],
   "source": [
    "# Helpful trick: Sets as unordered lists in Python \n",
    "# Execute/modify to see/inspect behavior\n",
    "\n",
    "a=['x','y','z']\n",
    "b=['y','z','x'] # changed order\n",
    "c=['x','y','y','z'] # repeated elements\n",
    "d=['x','y','z','t'] # new element\n",
    "\n",
    "print \"As sets rather than lists:\"\n",
    "print \"a==b: \", set(a) == set(b)\n",
    "print \"a==c: \", set(a) == set(c)\n",
    "print \"a==d: \", set(a) == set(d)\n",
    "print \"a!=d: \", set(a) != set(d)"
   ]
  },
  {
   "cell_type": "markdown",
   "metadata": {},
   "source": [
    "Now let's get the `disagree_cols`."
   ]
  },
  {
   "cell_type": "code",
   "execution_count": 109,
   "metadata": {
    "collapsed": false
   },
   "outputs": [
    {
     "name": "stdout",
     "output_type": "stream",
     "text": [
      "['yearly-income', 'native-country']\n"
     ]
    }
   ],
   "source": [
    "# Obtain the list of categorical columns where the unique cats don't agree \n",
    "# between the two datasets (you should find two!)\n",
    "\n",
    "## Your code here\n",
    "\n",
    "disagree_cols = [key for key in train_categories if set(train_categories[key]) != set(test_categories[key])]\n",
    "print disagree_cols\n",
    "\n",
    "#for key,value in train_categories.iteritems():\n",
    "#    print key,set(train_categories[key]) == set(test_categories[key])"
   ]
  },
  {
   "cell_type": "markdown",
   "metadata": {},
   "source": [
    "Next, print the unique values that occur in the two datasets for the two \"disagree columns\", together with the corresponding unique values in the two datasets. "
   ]
  },
  {
   "cell_type": "code",
   "execution_count": 110,
   "metadata": {
    "collapsed": false
   },
   "outputs": [
    {
     "name": "stdout",
     "output_type": "stream",
     "text": [
      "Column:  yearly-income\n",
      "train: \n",
      "['<=50K' '>50K']\n",
      "test: \n",
      "['<=50K.' '>50K.']\n",
      "Column:  native-country\n",
      "train: \n",
      "['United-States' 'Cuba' 'Jamaica' 'India' nan 'Mexico' 'South'\n",
      " 'Puerto-Rico' 'Honduras' 'England' 'Canada' 'Germany' 'Iran' 'Philippines'\n",
      " 'Italy' 'Poland' 'Columbia' 'Cambodia' 'Thailand' 'Ecuador' 'Laos'\n",
      " 'Taiwan' 'Haiti' 'Portugal' 'Dominican-Republic' 'El-Salvador' 'France'\n",
      " 'Guatemala' 'China' 'Japan' 'Yugoslavia' 'Peru'\n",
      " 'Outlying-US(Guam-USVI-etc)' 'Scotland' 'Trinadad&Tobago' 'Greece'\n",
      " 'Nicaragua' 'Vietnam' 'Hong' 'Ireland' 'Hungary' 'Holand-Netherlands']\n",
      "test: \n",
      "['United-States' nan 'Peru' 'Guatemala' 'Mexico' 'Dominican-Republic'\n",
      " 'Ireland' 'Germany' 'Philippines' 'Thailand' 'Haiti' 'El-Salvador'\n",
      " 'Puerto-Rico' 'Vietnam' 'South' 'Columbia' 'Japan' 'India' 'Cambodia'\n",
      " 'Poland' 'Laos' 'England' 'Cuba' 'Taiwan' 'Italy' 'Canada' 'Portugal'\n",
      " 'China' 'Nicaragua' 'Honduras' 'Iran' 'Scotland' 'Jamaica' 'Ecuador'\n",
      " 'Yugoslavia' 'Hungary' 'Hong' 'Greece' 'Trinadad&Tobago'\n",
      " 'Outlying-US(Guam-USVI-etc)' 'France']\n"
     ]
    }
   ],
   "source": [
    "# Let me do this for you: Execute this cell after you have the needed variables below defined\n",
    "\n",
    "for c in disagree_cols:\n",
    "    print \"Column: \", c\n",
    "    print \"train: \"\n",
    "    print train_categories[c]\n",
    "    print \"test: \"\n",
    "    print test_categories[c]"
   ]
  },
  {
   "cell_type": "markdown",
   "metadata": {},
   "source": [
    "Different categories can sometimes naturally occur in two different datasets from the same source, but different sets of categories can signify an error, too. Looking at the outcome of the print statement above, you should see that the reason for the discrepancy in one of the columns is a clear error. Let's next fix that error.\n",
    "\n",
    "You should have found that for one of the \"disagree columns\", the categories in `income_test` are almos equal to those in `income_train`, with one additional character added at the end for each category.\n",
    "\n",
    "Create a copy of `income_test` named `income_test_corrected`, and update the relevant column in this DataFrame to make the unique categories agree with those in `income_train`; in other words, remove the extra character in the relevant column of `income_test_corrected`.\n",
    "\n",
    "Note that there are various ways to do this in Pandas; you can use, e.g., the `map()` or the `apply()` methods."
   ]
  },
  {
   "cell_type": "code",
   "execution_count": 111,
   "metadata": {
    "collapsed": false
   },
   "outputs": [],
   "source": [
    "# Let me create the copy for you \n",
    "income_test_corrected = income_test.copy()\n",
    "# Now correct the troublesome column\n",
    "income_test_corrected[\"yearly-income\"] = income_test[\"yearly-income\"].map({\"<=50K.\": \"<=50K\", \">50K.\": \">50K\"})\n",
    "#income_test_corrected.head()"
   ]
  },
  {
   "cell_type": "markdown",
   "metadata": {},
   "source": [
    "After correcting the trouble column in `income_test_corrected`, save this corrected version to the `data` directory using the `to_csv()` method in Pandas, but use a new file name, e.g., `income_test_corrected.csv` to avoid overwriting the existing file. Note that \n",
    "\n",
    "- we don't want to write index of the DataFrame object, so use an appropriate setting for the `index` parameter of `to_csv()`\n",
    "- we would like to use the `?` symbol for the missing values (instead of the default symbol Pandas uses), so use the appropriate parameter and an appropriate setting for that parameter of `to_csv()`"
   ]
  },
  {
   "cell_type": "code",
   "execution_count": 112,
   "metadata": {
    "collapsed": true
   },
   "outputs": [],
   "source": [
    "income_test_corrected.to_csv(\"data/income_test_corrected.csv\",index=False,na_rep=\"?\")"
   ]
  },
  {
   "cell_type": "markdown",
   "metadata": {},
   "source": [
    "## \"Human learning\""
   ]
  },
  {
   "cell_type": "markdown",
   "metadata": {},
   "source": [
    "We will soon start to learn techniques of machine learning; i.e., letting a computer program go over the data to learn to predict an outcome of interest using the data available. For the `income` datasets, we would like to learn how to  predict the `yearly-income` column using the information in the other columns. \n",
    "\n",
    "In this second part of the homework, I want you to use visualization and exploratory data-analysis to create a hand-made prediction function; i.e., instead of machine learning, learn from the data as a human, and write a prediction rule function. The function should take a DataFrame object with the same columns as in the two datasets income_train and income_test (except possibly the `yearly-income` column), __and returns a NumPy array (or Pandas Series object) of predictions of the `yearly-income` column__, with one prediction per row.\n",
    "\n",
    "Once you have your predictive function, evaluate it on the test set (`income_test`) by making predictions of it `yearly-income` column, and obtaining the fraction of correct answers. \n",
    "\n",
    "Here are the rules:\n",
    "\n",
    "- Show me your exploratory work. It is ok (in fact, more than ok!) to show things you tried and didn't work.\n",
    "- You must not use `income_test` for your exploratory, development, and preliminary evaluation work. You can only use it once you are satisfied with your prediction function and how it performs on `income_train`, and are ready to get the final evaluation on the test set. This is the purpose of having a separate test set!\n",
    "\n",
    "This part of the assignment is open-ended, but it will be evaluated on a \"reasonable effort\" basis. I don't expect you to get a highly accurate function, my aim here is to let you have this experience of trying to learn from data,  and perhaps brainstorm a bit about how a machine (algorithm) may do this automatically. I am __not__ asking you to use machine learning; please don't! Just try to learn from this dataset as a human, and write a hard-coded prediction function. Use this as an opportunity to try out different visualization and data summarization techniques. And have fun!\n",
    "\n",
    "Just to make things concrete, I'm including one simple attempt below. Please note that this code assumes the corrected test data `income_test_corrected` has been created already.\n",
    "\n",
    "This section will be worth 5 points."
   ]
  },
  {
   "cell_type": "markdown",
   "metadata": {},
   "source": [
    "### Example solution from Arkadaş"
   ]
  },
  {
   "cell_type": "markdown",
   "metadata": {},
   "source": [
    "Get the fractions of the two categories."
   ]
  },
  {
   "cell_type": "code",
   "execution_count": 113,
   "metadata": {
    "collapsed": false
   },
   "outputs": [
    {
     "data": {
      "text/plain": [
       "<=50K    0.75919\n",
       ">50K     0.24081\n",
       "Name: yearly-income, dtype: float64"
      ]
     },
     "execution_count": 113,
     "metadata": {},
     "output_type": "execute_result"
    }
   ],
   "source": [
    "income_train['yearly-income'].value_counts(normalize=True)"
   ]
  },
  {
   "cell_type": "markdown",
   "metadata": {},
   "source": [
    "About 75.9% have income <=50K, so if we predict everybody has income <=50K, we will have 75.9% correct answers on income_train. Let's see if we can do better."
   ]
  },
  {
   "cell_type": "markdown",
   "metadata": {},
   "source": [
    "Inspect dependence of the yearly-income on the workclass."
   ]
  },
  {
   "cell_type": "code",
   "execution_count": 114,
   "metadata": {
    "collapsed": true
   },
   "outputs": [],
   "source": [
    "import seaborn as sns"
   ]
  },
  {
   "cell_type": "code",
   "execution_count": 115,
   "metadata": {
    "collapsed": false
   },
   "outputs": [
    {
     "data": {
      "text/plain": [
       "<seaborn.axisgrid.FacetGrid at 0x7fba2e5a03d0>"
      ]
     },
     "execution_count": 115,
     "metadata": {},
     "output_type": "execute_result"
    },
    {
     "data": {
      "image/png": "[encoded data removed]",
      "text/plain": [
       "<matplotlib.figure.Figure at 0x7fba2e4bb910>"
      ]
     },
     "metadata": {},
     "output_type": "display_data"
    }
   ],
   "source": [
    "sns.factorplot(\"yearly-income\", col=\"workclass\", col_wrap=4, data=income_train, kind=\"count\")"
   ]
  },
  {
   "cell_type": "markdown",
   "metadata": {},
   "source": [
    "Looks like for workclass=Self-emp-inc, there are more people with >50K than <=50K. Let's check."
   ]
  },
  {
   "cell_type": "code",
   "execution_count": 116,
   "metadata": {
    "collapsed": false
   },
   "outputs": [
    {
     "name": "stdout",
     "output_type": "stream",
     "text": [
      ">50K     0.557348\n",
      "<=50K    0.442652\n",
      "Name: yearly-income, dtype: float64\n"
     ]
    }
   ],
   "source": [
    "# Restrict to subset (read about Boolean (logical) indexing from the Pandas docs if this looks mysterious)\n",
    "income_train_self_emp = income_train[ income_train['workclass']=='Self-emp-inc' ]\n",
    "\n",
    "# Print normalized value counts\n",
    "print income_train_self_emp['yearly-income'].value_counts(normalize=True)"
   ]
  },
  {
   "cell_type": "markdown",
   "metadata": {},
   "source": [
    "Looks like our observation was correct. So if somebody's workclass is 'Self-emp-inc', we can predict they have income >50K, and we will do better. Let's use this observation to create our prediction function."
   ]
  },
  {
   "cell_type": "code",
   "execution_count": 117,
   "metadata": {
    "collapsed": true
   },
   "outputs": [],
   "source": [
    "# Function that takes in a data frame ('df') and returns the predicted yearly-income for each row\n",
    "def predict_income(df):\n",
    "    # Default prediction: everybody is <=50K\n",
    "    # Repeat this default prediction as many times as there are rows in the input dataset df\n",
    "    predictions = np.repeat(['<=50K'], len(df))\n",
    "\n",
    "    # Find the rows where workclass is 'Self-emp-inc'; this creates a Boolean (logical) NumPy array\n",
    "    self_emp_rows = np.array(df['workclass'] == 'Self-emp-inc')\n",
    "\n",
    "    # Update the predictions for the corresponding rows\n",
    "    # We will use logical (boolean) indexing for a NumPy array\n",
    "    predictions[self_emp_rows] = '>50K'\n",
    "    return predictions"
   ]
  },
  {
   "cell_type": "markdown",
   "metadata": {},
   "source": [
    "Let's now predict for the training set."
   ]
  },
  {
   "cell_type": "code",
   "execution_count": 118,
   "metadata": {
    "collapsed": false
   },
   "outputs": [],
   "source": [
    "train_predictions = predict_income(income_train)"
   ]
  },
  {
   "cell_type": "markdown",
   "metadata": {},
   "source": [
    "How well did we do?"
   ]
  },
  {
   "cell_type": "code",
   "execution_count": 119,
   "metadata": {
    "collapsed": false
   },
   "outputs": [],
   "source": [
    "train_correct_predictions = np.array(train_predictions == income_train['yearly-income'])"
   ]
  },
  {
   "cell_type": "markdown",
   "metadata": {},
   "source": [
    "`train_correct_predictions` is a Boolean array. True is treated as 1 and False is treated as 0, so calculating the mean gives the fraction of correct answers."
   ]
  },
  {
   "cell_type": "code",
   "execution_count": 120,
   "metadata": {
    "collapsed": false
   },
   "outputs": [
    {
     "data": {
      "text/plain": [
       "0.76312152575166614"
      ]
     },
     "execution_count": 120,
     "metadata": {},
     "output_type": "execute_result"
    }
   ],
   "source": [
    "train_correct_predictions.mean()"
   ]
  },
  {
   "cell_type": "markdown",
   "metadata": {},
   "source": [
    "We improved on the baseline of 0.759...!"
   ]
  },
  {
   "cell_type": "markdown",
   "metadata": {},
   "source": [
    "So now that we are happy with our prediction rule, let's evaluate it on the test set. But beware, there is no going back to create another prediction rule after looking at the test set; if we are unhappy about our prediction function now, we should work to improve before doing the final check on the test set. I'm happy with the 76.3% so I'm going for the final evaluation."
   ]
  },
  {
   "cell_type": "code",
   "execution_count": 121,
   "metadata": {
    "collapsed": true
   },
   "outputs": [],
   "source": [
    "test_predictions = predict_income(income_test_corrected)"
   ]
  },
  {
   "cell_type": "code",
   "execution_count": 122,
   "metadata": {
    "collapsed": true
   },
   "outputs": [],
   "source": [
    "test_correct_predictions = np.array(test_predictions == income_test_corrected['yearly-income'])"
   ]
  },
  {
   "cell_type": "code",
   "execution_count": 123,
   "metadata": {
    "collapsed": false
   },
   "outputs": [
    {
     "data": {
      "text/plain": [
       "0.76702905226951656"
      ]
     },
     "execution_count": 123,
     "metadata": {},
     "output_type": "execute_result"
    }
   ],
   "source": [
    "test_correct_predictions.mean()"
   ]
  },
  {
   "cell_type": "markdown",
   "metadata": {},
   "source": [
    "## Your solution "
   ]
  },
  {
   "cell_type": "code",
   "execution_count": 124,
   "metadata": {
    "collapsed": false
   },
   "outputs": [],
   "source": [
    "mean_by = income_train.groupby(\"yearly-income\").mean()"
   ]
  },
  {
   "cell_type": "code",
   "execution_count": 125,
   "metadata": {
    "collapsed": false
   },
   "outputs": [
    {
     "data": {
      "text/html": [
       "<div>\n",
       "<table border=\"1\" class=\"dataframe\">\n",
       "  <thead>\n",
       "    <tr style=\"text-align: right;\">\n",
       "      <th></th>\n",
       "      <th>age</th>\n",
       "      <th>fnlwgt</th>\n",
       "      <th>education-num</th>\n",
       "      <th>capital-gain</th>\n",
       "      <th>capital-loss</th>\n",
       "      <th>hours-per-week</th>\n",
       "    </tr>\n",
       "    <tr>\n",
       "      <th>yearly-income</th>\n",
       "      <th></th>\n",
       "      <th></th>\n",
       "      <th></th>\n",
       "      <th></th>\n",
       "      <th></th>\n",
       "      <th></th>\n",
       "    </tr>\n",
       "  </thead>\n",
       "  <tbody>\n",
       "    <tr>\n",
       "      <th>&lt;=50K</th>\n",
       "      <td>36.783738</td>\n",
       "      <td>190340.86517</td>\n",
       "      <td>9.595065</td>\n",
       "      <td>148.752468</td>\n",
       "      <td>53.142921</td>\n",
       "      <td>38.840210</td>\n",
       "    </tr>\n",
       "    <tr>\n",
       "      <th>&gt;50K</th>\n",
       "      <td>44.249841</td>\n",
       "      <td>188005.00000</td>\n",
       "      <td>11.611657</td>\n",
       "      <td>4006.142456</td>\n",
       "      <td>195.001530</td>\n",
       "      <td>45.473026</td>\n",
       "    </tr>\n",
       "  </tbody>\n",
       "</table>\n",
       "</div>"
      ],
      "text/plain": [
       "                     age        fnlwgt  education-num  capital-gain  \\\n",
       "yearly-income                                                         \n",
       "<=50K          36.783738  190340.86517       9.595065    148.752468   \n",
       ">50K           44.249841  188005.00000      11.611657   4006.142456   \n",
       "\n",
       "               capital-loss  hours-per-week  \n",
       "yearly-income                                \n",
       "<=50K             53.142921       38.840210  \n",
       ">50K             195.001530       45.473026  "
      ]
     },
     "execution_count": 125,
     "metadata": {},
     "output_type": "execute_result"
    }
   ],
   "source": [
    "mean_by.head()"
   ]
  },
  {
   "cell_type": "code",
   "execution_count": 126,
   "metadata": {
    "collapsed": true
   },
   "outputs": [],
   "source": [
    "std_by = income_train.groupby(\"yearly-income\").std()"
   ]
  },
  {
   "cell_type": "code",
   "execution_count": 127,
   "metadata": {
    "collapsed": false
   },
   "outputs": [
    {
     "data": {
      "text/html": [
       "<div>\n",
       "<table border=\"1\" class=\"dataframe\">\n",
       "  <thead>\n",
       "    <tr style=\"text-align: right;\">\n",
       "      <th></th>\n",
       "      <th>age</th>\n",
       "      <th>fnlwgt</th>\n",
       "      <th>education-num</th>\n",
       "      <th>capital-gain</th>\n",
       "      <th>capital-loss</th>\n",
       "      <th>hours-per-week</th>\n",
       "    </tr>\n",
       "    <tr>\n",
       "      <th>yearly-income</th>\n",
       "      <th></th>\n",
       "      <th></th>\n",
       "      <th></th>\n",
       "      <th></th>\n",
       "      <th></th>\n",
       "      <th></th>\n",
       "    </tr>\n",
       "  </thead>\n",
       "  <tbody>\n",
       "    <tr>\n",
       "      <th>&lt;=50K</th>\n",
       "      <td>14.020088</td>\n",
       "      <td>106482.271195</td>\n",
       "      <td>2.436147</td>\n",
       "      <td>963.139307</td>\n",
       "      <td>310.755769</td>\n",
       "      <td>12.318995</td>\n",
       "    </tr>\n",
       "    <tr>\n",
       "      <th>&gt;50K</th>\n",
       "      <td>10.519028</td>\n",
       "      <td>102541.775472</td>\n",
       "      <td>2.385129</td>\n",
       "      <td>14570.378951</td>\n",
       "      <td>595.487574</td>\n",
       "      <td>11.012971</td>\n",
       "    </tr>\n",
       "  </tbody>\n",
       "</table>\n",
       "</div>"
      ],
      "text/plain": [
       "                     age         fnlwgt  education-num  capital-gain  \\\n",
       "yearly-income                                                          \n",
       "<=50K          14.020088  106482.271195       2.436147    963.139307   \n",
       ">50K           10.519028  102541.775472       2.385129  14570.378951   \n",
       "\n",
       "               capital-loss  hours-per-week  \n",
       "yearly-income                                \n",
       "<=50K            310.755769       12.318995  \n",
       ">50K             595.487574       11.012971  "
      ]
     },
     "execution_count": 127,
     "metadata": {},
     "output_type": "execute_result"
    }
   ],
   "source": [
    "std_by.head()"
   ]
  },
  {
   "cell_type": "markdown",
   "metadata": {},
   "source": [
    "__it seems like increased education-num, capital-gain and hours-per-week increases yearly-income__, capital gain and capital loss are not good measures as they have high std"
   ]
  },
  {
   "cell_type": "code",
   "execution_count": 128,
   "metadata": {
    "collapsed": false
   },
   "outputs": [],
   "source": [
    "def my_predict_income(df):\n",
    "    predictions = np.repeat(['<=50K'], len(df))\n",
    "\n",
    "    high_income = np.array(df['age'] > 40)# and df['education-num'] > 10.6 and df['hours-per-week'] > 42.1)\n",
    "\n",
    "    predictions[high_income] = '>50K'\n",
    "    return predictions"
   ]
  },
  {
   "cell_type": "code",
   "execution_count": 129,
   "metadata": {
    "collapsed": false
   },
   "outputs": [],
   "source": [
    "my_train_predictions = my_predict_income(income_train)"
   ]
  },
  {
   "cell_type": "code",
   "execution_count": 130,
   "metadata": {
    "collapsed": false
   },
   "outputs": [
    {
     "data": {
      "text/plain": [
       "0.63827892263751118"
      ]
     },
     "execution_count": 130,
     "metadata": {},
     "output_type": "execute_result"
    }
   ],
   "source": [
    "my_train_correct_predictions = np.array(my_train_predictions == income_train['yearly-income'])\n",
    "my_train_correct_predictions.mean()\n",
    "#meeeh not good"
   ]
  },
  {
   "cell_type": "code",
   "execution_count": 131,
   "metadata": {
    "collapsed": false
   },
   "outputs": [],
   "source": [
    "def my_predict_income(df):\n",
    "    predictions = np.repeat(['<=50K'], len(df))\n",
    "\n",
    "    high_income = np.array(df['hours-per-week'] > 40)\n",
    "\n",
    "    predictions[high_income] = '>50K'\n",
    "    return predictions"
   ]
  },
  {
   "cell_type": "code",
   "execution_count": 156,
   "metadata": {
    "collapsed": false
   },
   "outputs": [
    {
     "name": "stderr",
     "output_type": "stream",
     "text": [
      "/projects/sage/sage-7.3/local/lib/python2.7/site-packages/ipykernel/__main__.py:9: FutureWarning: in the future, boolean array-likes will be handled as a boolean array index\n"
     ]
    },
    {
     "data": {
      "text/plain": [
       "0.75912901937901167"
      ]
     },
     "execution_count": 156,
     "metadata": {},
     "output_type": "execute_result"
    }
   ],
   "source": [
    "my_train_predictions = my_predict_income(income_train)\n",
    "my_train_correct_predictions = np.array(my_train_predictions == income_train['yearly-income'])\n",
    "my_train_correct_predictions.mean()\n",
    "# still not ok :( "
   ]
  },
  {
   "cell_type": "code",
   "execution_count": 133,
   "metadata": {
    "collapsed": false,
    "scrolled": true
   },
   "outputs": [],
   "source": [
    "# plt.plot(income_train['yearly-income'].map({\"<=50K\":20, \">50K\": 70}),income_train['hours-per-week'] , '.')\n",
    "# tried to visualize hours per week by yearly-income to see whether if it is regressable."
   ]
  },
  {
   "cell_type": "code",
   "execution_count": 134,
   "metadata": {
    "collapsed": false
   },
   "outputs": [],
   "source": [
    "#income_dummy_vals = income_train['yearly-income']\n",
    "#income_train[\"yearly-income-bool\"] = [51*income_train[\"age\"][key] if income == \">50K\" else 49*income_train[\"age\"][key] for key,income in income_train[\"yearly-income\"].iteritems()]\n",
    "\n",
    "income_train[\"yearly-income-bool\"] = [True if income == \">50K\" else False for key,income in income_train[\"yearly-income\"].iteritems()]"
   ]
  },
  {
   "cell_type": "code",
   "execution_count": 135,
   "metadata": {
    "collapsed": false,
    "scrolled": true
   },
   "outputs": [
    {
     "data": {
      "text/plain": [
       "[<matplotlib.lines.Line2D at 0x7fba2e05b490>]"
      ]
     },
     "execution_count": 135,
     "metadata": {},
     "output_type": "execute_result"
    },
    {
     "data": {
      "image/png": "[encoded data removed]",
      "text/plain": [
       "<matplotlib.figure.Figure at 0x7fba2e4bb310>"
      ]
     },
     "metadata": {},
     "output_type": "display_data"
    }
   ],
   "source": [
    "p_by_age = income_train[[\"age\", \"yearly-income-bool\"]].groupby(\"age\").mean() #probabilities of earning higher than >50K by age.\n",
    "plt.plot(income_train[[\"age\", \"yearly-income-bool\"]].groupby(\"age\").mean())"
   ]
  },
  {
   "cell_type": "code",
   "execution_count": 136,
   "metadata": {
    "collapsed": false,
    "scrolled": true
   },
   "outputs": [
    {
     "name": "stdout",
     "output_type": "stream",
     "text": [
      "yearly-income-bool    0.223022\n",
      "dtype: float64 yearly-income-bool    0.138112\n",
      "dtype: float64\n"
     ]
    }
   ],
   "source": [
    "p_mean = p_by_age.mean()\n",
    "p_std = p_by_age.std()\n",
    "print p_mean,p_std"
   ]
  },
  {
   "cell_type": "code",
   "execution_count": 3,
   "metadata": {
    "collapsed": false
   },
   "outputs": [
    {
     "ename": "NameError",
     "evalue": "name 'income_train' is not defined",
     "output_type": "error",
     "traceback": [
      "\u001b[0;31m---------------------------------------------------------------------------\u001b[0m",
      "\u001b[0;31mNameError\u001b[0m                                 Traceback (most recent call last)",
      "\u001b[0;32m<ipython-input-3-b99589896a9c>\u001b[0m in \u001b[0;36m<module>\u001b[0;34m()\u001b[0m\n\u001b[1;32m      9\u001b[0m     \u001b[0;32mreturn\u001b[0m \u001b[0mpredictions\u001b[0m\u001b[0;34m\u001b[0m\u001b[0m\n\u001b[1;32m     10\u001b[0m \u001b[0;34m\u001b[0m\u001b[0m\n\u001b[0;32m---> 11\u001b[0;31m \u001b[0mmy_train_predictions\u001b[0m \u001b[0;34m=\u001b[0m \u001b[0mmy_predict_income\u001b[0m\u001b[0;34m(\u001b[0m\u001b[0mincome_train\u001b[0m\u001b[0;34m)\u001b[0m\u001b[0;34m\u001b[0m\u001b[0m\n\u001b[0m\u001b[1;32m     12\u001b[0m \u001b[0mmy_train_correct_predictions\u001b[0m \u001b[0;34m=\u001b[0m \u001b[0mnp\u001b[0m\u001b[0;34m.\u001b[0m\u001b[0marray\u001b[0m\u001b[0;34m(\u001b[0m\u001b[0mmy_train_predictions\u001b[0m \u001b[0;34m==\u001b[0m \u001b[0mincome_train\u001b[0m\u001b[0;34m[\u001b[0m\u001b[0;34m'yearly-income'\u001b[0m\u001b[0;34m]\u001b[0m\u001b[0;34m)\u001b[0m\u001b[0;34m\u001b[0m\u001b[0m\n\u001b[1;32m     13\u001b[0m \u001b[0mmy_train_correct_predictions\u001b[0m\u001b[0;34m.\u001b[0m\u001b[0mmean\u001b[0m\u001b[0;34m(\u001b[0m\u001b[0;34m)\u001b[0m\u001b[0;34m\u001b[0m\u001b[0m\n",
      "\u001b[0;31mNameError\u001b[0m: name 'income_train' is not defined"
     ]
    }
   ],
   "source": [
    "def my_predict_income(df):\n",
    "    predictions = np.repeat(['<=50K'], len(df))\n",
    "    \n",
    "    df[\"yearly-income-bool\"] = income_train[\"yearly-income\"].map({\"<=50K\": False, \">50K\": True})\n",
    "    p_by_age = df[[\"age\", \"yearly-income-bool\"]].groupby(\"age\").mean()\n",
    "    p_by_age_mean = p_by_age['yearly-income-bool'].mean()\n",
    "    high_income = [True if p_by_age[\"yearly-income-bool\"][age] > p_by_age_mean else False for age in df[\"age\"]]\n",
    "    predictions[high_income] = '>50K'\n",
    "    return predictions\n",
    "\n",
    "my_train_predictions = my_predict_income(income_train)\n",
    "my_train_correct_predictions = np.array(my_train_predictions == income_train['yearly-income'])\n",
    "my_train_correct_predictions.mean()"
   ]
  },
  {
   "cell_type": "markdown",
   "metadata": {},
   "source": [
    "__IT SEEMS REALLY NICE!__ Now try in test :)"
   ]
  },
  {
   "cell_type": "code",
   "execution_count": 155,
   "metadata": {
    "collapsed": false
   },
   "outputs": [
    {
     "name": "stderr",
     "output_type": "stream",
     "text": [
      "/projects/sage/sage-7.3/local/lib/python2.7/site-packages/ipykernel/__main__.py:9: FutureWarning: in the future, boolean array-likes will be handled as a boolean array index\n"
     ]
    },
    {
     "data": {
      "text/plain": [
       "0.76365088139549164"
      ]
     },
     "execution_count": 155,
     "metadata": {},
     "output_type": "execute_result"
    }
   ],
   "source": [
    "my_test_predictions = my_predict_income(income_test_corrected)\n",
    "my_test_correct_predictions = np.array(my_test_predictions == income_test_corrected['yearly-income'])\n",
    "my_test_correct_predictions.mean()"
   ]
  },
  {
   "cell_type": "markdown",
   "metadata": {},
   "source": [
    "# 0.764\n",
    "## WOW! :)"
   ]
  },
  {
   "cell_type": "code",
   "execution_count": null,
   "metadata": {
    "collapsed": true
   },
   "outputs": [],
   "source": []
  }
 ],
 "metadata": {
  "kernelspec": {
   "display_name": "Python 2",
   "language": "python",
   "name": "python2"
  },
  "language_info": {
   "codemirror_mode": {
    "name": "ipython",
    "version": 2
   },
   "file_extension": ".py",
   "mimetype": "text/x-python",
   "name": "python",
   "nbconvert_exporter": "python",
   "pygments_lexer": "ipython2",
   "version": "2.7.12"
  }
 },
 "nbformat": 4,
 "nbformat_minor": 0
}
